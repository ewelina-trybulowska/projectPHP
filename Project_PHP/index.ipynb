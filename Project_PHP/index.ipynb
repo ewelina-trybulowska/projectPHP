{
 "cells": [
  {
   "cell_type": "markdown",
   "metadata": {},
   "source": [
    "# PHP 2021/2022"
   ]
  },
  {
   "cell_type": "markdown",
   "metadata": {},
   "source": [
    "## Sklep internetowy z obuwiem"
   ]
  },
  {
   "cell_type": "markdown",
   "metadata": {},
   "source": [
    "Opis:\n",
    "- Kupujący mają możliwość zarejestrowania się do serwisu i późniejszego zalogowania \n",
    "- Zakupów można dokonać również bez rejestracji \n",
    "- Osoba zainteresowana kupnem określonego obuwia może określić preferowane cechy np. rozmiar, kolor, rodzaj obuwia itp \n",
    "- Kupujący ma możliwość wykorzystania kuponu rabatowego podczas zakupów \n",
    "- Jeśli brakuje danego obuwia po przefiltrowaniu wyświetlany jest stosowny komunikat o braku dostępności \n",
    "- Zarejestrowany użytkownik ma możliwość przeglądania historii swoich zakupów i ocenienia ich \n",
    "- Serwis posiada również rolę administratora strony/sprzedawcy, który ma możliwość dodawać produkty, ich opis oraz cenę."
   ]
  },
  {
   "cell_type": "markdown",
   "metadata": {},
   "source": [
    "Autorzy:\n",
    "\n",
    "- Kamila Soćko\n",
    "- Ewelina Trybułowska\n",
    "- Pualina Szymanek\n",
    "- Dorota Zub"
   ]
  },
  {
   "cell_type": "markdown",
   "metadata": {},
   "source": [
    "Start database:"
   ]
  },
  {
   "cell_type": "code",
   "execution_count": 3,
   "metadata": {},
   "outputs": [
    {
     "name": "stdout",
     "output_type": "stream",
     "text": [
      "07b6bd1770c65513c47cb3481f6eb743caa4ac28cf5847d08f3a8314e437c215\r\n"
     ]
    }
   ],
   "source": [
    "! sudo docker run --name=mysql --net=host --rm --env MYSQL_ROOT_PASSWORD=root123 --env MYSQL_ROOT_HOST=% --env MYSQL_DATABASE=test --env MYSQL_USER=test --env MYSQL_PASSWORD=test123 -d mysql/mysql-server:8.0"
   ]
  },
  {
   "cell_type": "code",
   "execution_count": 4,
   "metadata": {},
   "outputs": [
    {
     "name": "stdout",
     "output_type": "stream",
     "text": [
      "Done.\r\n"
     ]
    }
   ],
   "source": [
    "! while ! timeout 1 bash -c \"echo > /dev/tcp/localhost/3306\" 2> /dev/null; do sleep 1; done; echo \"Done.\";"
   ]
  },
  {
   "cell_type": "markdown",
   "metadata": {},
   "source": [
    "Edit the code:"
   ]
  },
  {
   "cell_type": "code",
   "execution_count": 12,
   "metadata": {},
   "outputs": [
    {
     "name": "stdout",
     "output_type": "stream",
     "text": [
      "\n",
      "(java:159): dbind-\u001b[1;33mWARNING\u001b[0m **: \u001b[34m21:17:03.709\u001b[0m: Couldn't connect to accessibility bus: Failed to connect to socket /tmp/dbus-Qva9v636Yj: No such file or directory\n",
      "2022-01-18 21:17:20,953 [  17603]   WARN - l.NotificationGroupManagerImpl - Notification group CodeWithMe is already registered (group=com.intellij.notification.NotificationGroup@2b223f88). Plugin descriptor: PluginDescriptor(name=Code With Me, id=com.jetbrains.codeWithMe, descriptorPath=plugin.xml, path=/opt/PhpStorm-212.5080.71/plugins/cwm-plugin, version=212.5080.71, package=null) \n",
      "2022-01-18 21:17:30,548 [  27198]   WARN - .diagnostic.PerformanceWatcher - UI was frozen for 5792ms, details saved to /home/student/.cache/JetBrains/PhpStorm2021.2/log/threadDumps-freeze-20220118-211729-PS-212.5080.71-5sec \n",
      "2022-01-18 21:17:30,871 [  27521]   WARN - ctionSystem.impl.ActionUpdater - 6462 ms to expand group child GotoDatabaseObject \n",
      "2022-01-18 21:17:30,875 [  27525]   WARN - ctionSystem.impl.ActionUpdater - 6741 ms to expand group child GoToTargetEx \n",
      "2022-01-18 21:17:31,494 [  28144]   WARN - ctionSystem.impl.ActionUpdater - 7361 ms to expand group child OpenInBrowserGroup \n",
      "[JetBrains Runtime] Detected slow X11, switched off alpha compositing of images. Control with -Dremote.x11.workaround={true|false|auto}.\n",
      "2022-01-18 21:17:39,428 [  36078]   WARN - pl.local.NativeFileWatcherImpl - table error: collision at 3711 (new /home/student/php_2021_sklep_internetowy_z_obuwiem/.env/home/cache/JetBrains/PhpStorm2021.2/javascript/typings/lodash/4.14.178, existing /home/student/.cache/JetBrains/PhpStorm2021.2/javascript/typings/lodash/4.14.178) \n",
      "2022-01-18 21:17:39,521 [  36171]   WARN - pl.local.NativeFileWatcherImpl - Watcher terminated with exit code 3 \n",
      "2022-01-18 21:17:39,790 [  36440]   WARN - pl.local.NativeFileWatcherImpl - table error: collision at 2 (new /home/student/php_2021_sklep_internetowy_z_obuwiem/.env/home/cache/JetBrains/PhpStorm2021.2/javascript/typings/lodash/4.14.178, existing /home/student/.cache/JetBrains/PhpStorm2021.2/javascript/typings/lodash/4.14.178) \n",
      "2022-01-18 21:17:39,851 [  36501]   WARN - pl.local.NativeFileWatcherImpl - Watcher terminated with exit code 3 \n",
      "2022-01-18 21:17:40,176 [  36826]   WARN - pl.local.NativeFileWatcherImpl - table error: collision at 2 (new /home/student/php_2021_sklep_internetowy_z_obuwiem/.env/home/cache/JetBrains/PhpStorm2021.2/javascript/typings/lodash/4.14.178, existing /home/student/.cache/JetBrains/PhpStorm2021.2/javascript/typings/lodash/4.14.178) \n",
      "2022-01-18 21:17:40,227 [  36877]   WARN - pl.local.NativeFileWatcherImpl - Watcher terminated with exit code 3 \n",
      "2022-01-18 21:17:40,500 [  37150]   WARN - pl.local.NativeFileWatcherImpl - table error: collision at 2 (new /home/student/php_2021_sklep_internetowy_z_obuwiem/.env/home/cache/JetBrains/PhpStorm2021.2/javascript/typings/lodash/4.14.178, existing /home/student/.cache/JetBrains/PhpStorm2021.2/javascript/typings/lodash/4.14.178) \n",
      "2022-01-18 21:17:40,546 [  37196]  ERROR - terminal.emulator.JediEmulator - Unhandled Control sequence\n",
      "parsed                        :ESC[?2004h\n",
      "bytes read                    :ESC[ \n",
      "2022-01-18 21:17:40,588 [  37238]   WARN - pl.local.NativeFileWatcherImpl - Watcher terminated with exit code 3 \n",
      "2022-01-18 21:17:40,665 [  37315]   WARN - ctionSystem.impl.ActionUpdater - 2746 ms to expand group child ShowIntentionsGroup \n",
      "2022-01-18 21:17:40,844 [  37494]   WARN - pl.local.NativeFileWatcherImpl - table error: collision at 2 (new /home/student/php_2021_sklep_internetowy_z_obuwiem/.env/home/cache/JetBrains/PhpStorm2021.2/javascript/typings/lodash/4.14.178, existing /home/student/.cache/JetBrains/PhpStorm2021.2/javascript/typings/lodash/4.14.178) \n",
      "2022-01-18 21:17:40,865 [  37515]   WARN - pl.local.NativeFileWatcherImpl - Watcher terminated with exit code 3 \n",
      "2022-01-18 21:17:41,289 [  37939]   WARN - pl.local.NativeFileWatcherImpl - table error: collision at 2 (new /home/student/php_2021_sklep_internetowy_z_obuwiem/.env/home/cache/JetBrains/PhpStorm2021.2/javascript/typings/lodash/4.14.178, existing /home/student/.cache/JetBrains/PhpStorm2021.2/javascript/typings/lodash/4.14.178) \n",
      "2022-01-18 21:17:41,347 [  37997]   WARN - pl.local.NativeFileWatcherImpl - Watcher terminated with exit code 3 \n",
      "2022-01-18 21:17:41,656 [  38306]   WARN - pl.local.NativeFileWatcherImpl - table error: collision at 2 (new /home/student/php_2021_sklep_internetowy_z_obuwiem/.env/home/cache/JetBrains/PhpStorm2021.2/javascript/typings/lodash/4.14.178, existing /home/student/.cache/JetBrains/PhpStorm2021.2/javascript/typings/lodash/4.14.178) \n",
      "2022-01-18 21:17:41,689 [  38339]   WARN - pl.local.NativeFileWatcherImpl - Watcher terminated with exit code 3 \n",
      "2022-01-18 21:17:41,964 [  38614]   WARN - pl.local.NativeFileWatcherImpl - table error: collision at 2 (new /home/student/php_2021_sklep_internetowy_z_obuwiem/.env/home/cache/JetBrains/PhpStorm2021.2/javascript/typings/lodash/4.14.178, existing /home/student/.cache/JetBrains/PhpStorm2021.2/javascript/typings/lodash/4.14.178) \n",
      "2022-01-18 21:17:42,012 [  38662]   WARN - pl.local.NativeFileWatcherImpl - Watcher terminated with exit code 3 \n",
      "2022-01-18 21:17:42,319 [  38969]   WARN - com.intellij.util.xmlb.Binding - no accessors for com.jetbrains.php.testFramework.PhpTestFrameworkType \n",
      "2022-01-18 21:17:42,409 [  39059]   WARN - pl.local.NativeFileWatcherImpl - table error: collision at 2 (new /home/student/php_2021_sklep_internetowy_z_obuwiem/.env/home/cache/JetBrains/PhpStorm2021.2/javascript/typings/lodash/4.14.178, existing /home/student/.cache/JetBrains/PhpStorm2021.2/javascript/typings/lodash/4.14.178) \n",
      "2022-01-18 21:17:42,481 [  39131]   WARN - pl.local.NativeFileWatcherImpl - Watcher terminated with exit code 3 \n",
      "2022-01-18 21:17:42,950 [  39600]   WARN - pl.local.NativeFileWatcherImpl - table error: collision at 2 (new /home/student/php_2021_sklep_internetowy_z_obuwiem/.env/home/cache/JetBrains/PhpStorm2021.2/javascript/typings/lodash/4.14.178, existing /home/student/.cache/JetBrains/PhpStorm2021.2/javascript/typings/lodash/4.14.178) \n",
      "2022-01-18 21:17:43,022 [  39672]   WARN - pl.local.NativeFileWatcherImpl - Watcher terminated with exit code 3 \n",
      "2022-01-18 21:17:43,026 [  39676]   WARN - api.vfs.impl.local.FileWatcher - File watcher failed repeatedly and has been disabled \n",
      "2022-01-18 21:17:43,389 [  40039]   WARN - ctionSystem.impl.ActionUpdater - 1800 ms to expand group child CWMTelephonyGroup \n",
      "2022-01-18 21:17:43,389 [  40039]   WARN - ctionSystem.impl.ActionUpdater - 1800 ms to expand group child CodeWithMeNavbarGroup \n",
      "2022-01-18 21:17:43,391 [  40041]   WARN - ctionSystem.impl.ActionUpdater - 1285 ms to expand group child TabList \n",
      "2022-01-18 21:17:54,213 [  50863]  ERROR - terminal.emulator.JediEmulator - Unhandled Control sequence\n",
      "parsed                        :ESC[?2004l\n",
      "bytes read                    :ESC[ \n",
      "2022-01-18 21:17:58,547 [  55197]  ERROR - terminal.emulator.JediEmulator - Unhandled Control sequence\n",
      "parsed                        :ESC[?2004h\n",
      "bytes read                    :ESC[ \n",
      "2022-01-18 21:18:01,533 [  58183]   WARN - ctionSystem.impl.ActionUpdater - 1056 ms to expand group child EditorLangPopupMenu \n",
      "2022-01-18 21:18:02,888 [  59538]  ERROR - terminal.emulator.JediEmulator - Unhandled Control sequence\n",
      "parsed                        :ESC[?2004l\n",
      "bytes read                    :ESC[ \n",
      "2022-01-18 21:21:10,890 [ 247540]  ERROR - terminal.emulator.JediEmulator - Unhandled Control sequence\n",
      "parsed                        :ESC[?2004h\n",
      "bytes read                    :ESC[ \n",
      "2022-01-18 21:21:14,122 [ 250772]  ERROR - terminal.emulator.JediEmulator - Unhandled Control sequence\n",
      "parsed                        :ESC[?2004l\n",
      "bytes read                    :ESC[ \n",
      "2022-01-18 21:21:14,132 [ 250782]  ERROR - terminal.emulator.JediEmulator - Unhandled Control sequence\n",
      "parsed                        :ESC[?2004h\n",
      "bytes read                    :ESC[ \n",
      "2022-01-18 21:21:49,506 [ 286156]  ERROR - terminal.emulator.JediEmulator - Unhandled Control sequence\n",
      "parsed                        :ESC[?2004l\n",
      "bytes read                    :ESC[ \n"
     ]
    }
   ],
   "source": [
    "! phpstorm ../project"
   ]
  },
  {
   "cell_type": "markdown",
   "metadata": {},
   "source": [
    "You can test your solution using included tests:"
   ]
  },
  {
   "cell_type": "code",
   "execution_count": 5,
   "metadata": {},
   "outputs": [
    {
     "name": "stdout",
     "output_type": "stream",
     "text": [
      "/home/student/php_2021_sklep_internetowy_z_obuwiem/Project_PHP/project\n"
     ]
    }
   ],
   "source": [
    "%cd project"
   ]
  },
  {
   "cell_type": "code",
   "execution_count": 6,
   "metadata": {},
   "outputs": [
    {
     "name": "stdout",
     "output_type": "stream",
     "text": [
      "\u001b[32mInstalling dependencies from lock file (including require-dev)\u001b[39m\n",
      "\u001b[32mVerifying lock file contents can be installed on current platform.\u001b[39m\n",
      "Nothing to install, update or remove\n",
      "\u001b[30;43mPackage swiftmailer/swiftmailer is abandoned, you should avoid using it. Use symfony/mailer instead.\u001b[39;49m\n",
      "\u001b[32mGenerating optimized autoload files\u001b[39m\n",
      "> Illuminate\\Foundation\\ComposerScripts::postAutoloadDump\n",
      "> @php artisan package:discover --ansi\n",
      "Discovered Package: \u001b[32mfacade/ignition\u001b[39m\n",
      "Discovered Package: \u001b[32mfruitcake/laravel-cors\u001b[39m\n",
      "Discovered Package: \u001b[32mlaravel/breeze\u001b[39m\n",
      "Discovered Package: \u001b[32mlaravel/sail\u001b[39m\n",
      "Discovered Package: \u001b[32mlaravel/sanctum\u001b[39m\n",
      "Discovered Package: \u001b[32mlaravel/tinker\u001b[39m\n",
      "Discovered Package: \u001b[32mnesbot/carbon\u001b[39m\n",
      "Discovered Package: \u001b[32mnunomaduro/collision\u001b[39m\n",
      "Discovered Package: \u001b[32mspatie/laravel-markdown\u001b[39m\n",
      "\u001b[32mPackage manifest generated successfully.\u001b[39m\n",
      "\u001b[32m85 packages you are using are looking for funding.\u001b[39m\n",
      "\u001b[32mUse the `composer fund` command to find out more!\u001b[39m\n"
     ]
    }
   ],
   "source": [
    "! composer install"
   ]
  },
  {
   "cell_type": "code",
   "execution_count": 7,
   "metadata": {},
   "outputs": [],
   "source": [
    "! cp .env.example .env"
   ]
  },
  {
   "cell_type": "code",
   "execution_count": 8,
   "metadata": {},
   "outputs": [
    {
     "name": "stdout",
     "output_type": "stream",
     "text": [
      "\u001b[32mApplication key set successfully.\u001b[39m\r\n"
     ]
    }
   ],
   "source": [
    "! php artisan key:generate"
   ]
  },
  {
   "cell_type": "code",
   "execution_count": 9,
   "metadata": {},
   "outputs": [
    {
     "name": "stdout",
     "output_type": "stream",
     "text": [
      "\u001b[32mDropped all tables successfully.\u001b[39m\n",
      "\u001b[32mMigration table created successfully.\u001b[39m\n",
      "\u001b[33mMigrating:\u001b[39m 2013_01_15_094315_create_roles_table\n",
      "\u001b[32mMigrated:\u001b[39m  2013_01_15_094315_create_roles_table (36.01ms)\n",
      "\u001b[33mMigrating:\u001b[39m 2014_10_12_000000_create_users_table\n",
      "\u001b[32mMigrated:\u001b[39m  2014_10_12_000000_create_users_table (158.13ms)\n",
      "\u001b[33mMigrating:\u001b[39m 2014_10_12_100000_create_password_resets_table\n",
      "\u001b[32mMigrated:\u001b[39m  2014_10_12_100000_create_password_resets_table (93.32ms)\n",
      "\u001b[33mMigrating:\u001b[39m 2019_08_19_000000_create_failed_jobs_table\n",
      "\u001b[32mMigrated:\u001b[39m  2019_08_19_000000_create_failed_jobs_table (67.89ms)\n",
      "\u001b[33mMigrating:\u001b[39m 2019_12_14_000001_create_personal_access_tokens_table\n",
      "\u001b[32mMigrated:\u001b[39m  2019_12_14_000001_create_personal_access_tokens_table (100.57ms)\n",
      "\u001b[33mMigrating:\u001b[39m 2022_01_14_150047_create_images_table\n",
      "\u001b[32mMigrated:\u001b[39m  2022_01_14_150047_create_images_table (27.04ms)\n",
      "\u001b[33mMigrating:\u001b[39m 2022_01_14_152203_create_categories_table\n",
      "\u001b[32mMigrated:\u001b[39m  2022_01_14_152203_create_categories_table (37.26ms)\n",
      "\u001b[33mMigrating:\u001b[39m 2022_01_14_152355_create_subcategories_table\n",
      "\u001b[32mMigrated:\u001b[39m  2022_01_14_152355_create_subcategories_table (26.19ms)\n",
      "\u001b[33mMigrating:\u001b[39m 2022_01_14_152840_create_products_table\n",
      "\u001b[32mMigrated:\u001b[39m  2022_01_14_152840_create_products_table (184.04ms)\n",
      "\u001b[33mMigrating:\u001b[39m 2022_01_15_230054_create_addresses_table\n",
      "\u001b[32mMigrated:\u001b[39m  2022_01_15_230054_create_addresses_table (142.72ms)\n",
      "\u001b[33mMigrating:\u001b[39m 2022_01_17_134057_create_shelves_table\n",
      "\u001b[32mMigrated:\u001b[39m  2022_01_17_134057_create_shelves_table (122.00ms)\n",
      "\u001b[33mMigrating:\u001b[39m 2022_01_17_200838_create_reviews_table\n",
      "\u001b[32mMigrated:\u001b[39m  2022_01_17_200838_create_reviews_table (91.83ms)\n"
     ]
    }
   ],
   "source": [
    "! php artisan migrate:fresh"
   ]
  },
  {
   "cell_type": "code",
   "execution_count": 10,
   "metadata": {},
   "outputs": [
    {
     "name": "stdout",
     "output_type": "stream",
     "text": [
      "\u001b[33mSeeding:\u001b[39m Database\\Seeders\\RoleSeeder\n",
      "\u001b[32mSeeded:\u001b[39m  Database\\Seeders\\RoleSeeder (18.51ms)\n",
      "\u001b[33mSeeding:\u001b[39m Database\\Seeders\\UserSeeder\n",
      "\u001b[32mSeeded:\u001b[39m  Database\\Seeders\\UserSeeder (199.55ms)\n",
      "\u001b[33mSeeding:\u001b[39m Database\\Seeders\\CategorySeeder\n",
      "\u001b[32mSeeded:\u001b[39m  Database\\Seeders\\CategorySeeder (6.95ms)\n",
      "\u001b[33mSeeding:\u001b[39m Database\\Seeders\\ImageSeeder\n",
      "\u001b[32mSeeded:\u001b[39m  Database\\Seeders\\ImageSeeder (7.95ms)\n",
      "\u001b[33mSeeding:\u001b[39m Database\\Seeders\\ProductSeeder\n",
      "\u001b[32mSeeded:\u001b[39m  Database\\Seeders\\ProductSeeder (40.45ms)\n",
      "\u001b[33mSeeding:\u001b[39m Database\\Seeders\\AddressSeeder\n",
      "\u001b[32mSeeded:\u001b[39m  Database\\Seeders\\AddressSeeder (4.92ms)\n",
      "\u001b[33mSeeding:\u001b[39m Database\\Seeders\\ShelfSeeder\n",
      "\u001b[32mSeeded:\u001b[39m  Database\\Seeders\\ShelfSeeder (6.18ms)\n",
      "\u001b[32mDatabase seeding completed successfully.\u001b[39m\n"
     ]
    }
   ],
   "source": [
    "! php artisan db:seed"
   ]
  },
  {
   "cell_type": "code",
   "execution_count": 11,
   "metadata": {},
   "outputs": [
    {
     "name": "stdout",
     "output_type": "stream",
     "text": [
      "mysqldump: [Warning] Using a password on the command line interface can be insecure.\r\n"
     ]
    }
   ],
   "source": [
    "! mysqldump -h127.0.0.1 -u root --password=root123 test > tests_codeception/_data/dump.sql"
   ]
  },
  {
   "cell_type": "code",
   "execution_count": 10,
   "metadata": {},
   "outputs": [
    {
     "name": "stdout",
     "output_type": "stream",
     "text": [
      "PHPUnit 9.5.10 by Sebastian Bergmann and contributors.\n",
      "\n",
      ".................                                                 17 / 17 (100%)\n",
      "\n",
      "Time: 00:02.700, Memory: 38.00 MB\n",
      "\n",
      "\u001b[30;42mOK (17 tests, 27 assertions)\u001b[0m\n"
     ]
    }
   ],
   "source": [
    "! vendor/bin/phpunit --log-junit tests/_output/test_report.xml"
   ]
  },
  {
   "cell_type": "code",
   "execution_count": 11,
   "metadata": {},
   "outputs": [],
   "source": [
    "import subprocess\n",
    "artisanServe = subprocess.Popen(['php', 'artisan', 'serve', '--port', '8888'])"
   ]
  },
  {
   "cell_type": "code",
   "execution_count": null,
   "metadata": {},
   "outputs": [],
   "source": [
    "! vendor/bin/codecept run"
   ]
  },
  {
   "cell_type": "code",
   "execution_count": null,
   "metadata": {},
   "outputs": [],
   "source": [
    "! killall php php8.0"
   ]
  },
  {
   "cell_type": "code",
   "execution_count": null,
   "metadata": {},
   "outputs": [],
   "source": [
    "%cd .."
   ]
  },
  {
   "cell_type": "markdown",
   "metadata": {},
   "source": [
    "Stop database:"
   ]
  },
  {
   "cell_type": "code",
   "execution_count": 2,
   "metadata": {},
   "outputs": [
    {
     "name": "stdout",
     "output_type": "stream",
     "text": [
      "mysql\r\n"
     ]
    }
   ],
   "source": [
    "! sudo docker container stop mysql"
   ]
  }
 ],
 "metadata": {
  "kernelspec": {
   "display_name": "Python 3 (ipykernel)",
   "language": "python",
   "name": "python3"
  },
  "language_info": {
   "codemirror_mode": {
    "name": "ipython",
    "version": 3
   },
   "file_extension": ".py",
   "mimetype": "text/x-python",
   "name": "python",
   "nbconvert_exporter": "python",
   "pygments_lexer": "ipython3",
   "version": "3.9.5"
  }
 },
 "nbformat": 4,
 "nbformat_minor": 4
}
