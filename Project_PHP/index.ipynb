{
 "cells": [
  {
   "cell_type": "markdown",
   "metadata": {},
   "source": [
    "# PHP 2021/2022"
   ]
  },
  {
   "cell_type": "markdown",
   "metadata": {},
   "source": [
    "## Sklep internetowy z obuwiem"
   ]
  },
  {
   "cell_type": "markdown",
   "metadata": {},
   "source": [
    "Opis:\n",
    "- Kupujący mają możliwość zarejestrowania się do serwisu i późniejszego zalogowania \n",
    "- Zakupów można dokonać również bez rejestracji \n",
    "- Osoba zainteresowana kupnem określonego obuwia może określić preferowane cechy np. rozmiar, kolor, rodzaj obuwia itp \n",
    "- Kupujący ma możliwość wykorzystania kuponu rabatowego podczas zakupów \n",
    "- Jeśli brakuje danego obuwia po przefiltrowaniu wyświetlany jest stosowny komunikat o braku dostępności \n",
    "- Zarejestrowany użytkownik ma możliwość przeglądania historii swoich zakupów i ocenienia ich \n",
    "- Serwis posiada również rolę administratora strony/sprzedawcy, który ma możliwość dodawać produkty, ich opis oraz cenę."
   ]
  },
  {
   "cell_type": "markdown",
   "metadata": {},
   "source": [
    "Autorzy:\n",
    "\n",
    "- Kamila Soćko\n",
    "- Ewelina Trybułowska\n",
    "- Pualina Szymanek\n",
    "- Dorota Zub"
   ]
  },
  {
   "cell_type": "markdown",
   "metadata": {},
   "source": [
    "Start database:"
   ]
  },
  {
   "cell_type": "code",
   "execution_count": 1,
   "metadata": {},
   "outputs": [
    {
     "name": "stdout",
     "output_type": "stream",
     "text": [
      "1b71cb597e44b0ec667602c9ee74451912e77bcbd92ab6b522d05bc007b8cdf8\r\n"
     ]
    }
   ],
   "source": [
    "! sudo docker run --name=mysql --net=host --rm --env MYSQL_ROOT_PASSWORD=root123 --env MYSQL_ROOT_HOST=% --env MYSQL_DATABASE=test --env MYSQL_USER=test --env MYSQL_PASSWORD=test123 -d mysql/mysql-server:8.0"
   ]
  },
  {
   "cell_type": "code",
   "execution_count": 2,
   "metadata": {},
   "outputs": [
    {
     "name": "stdout",
     "output_type": "stream",
     "text": [
      "Done.\r\n"
     ]
    }
   ],
   "source": [
    "! while ! timeout 1 bash -c \"echo > /dev/tcp/localhost/3306\" 2> /dev/null; do sleep 1; done; echo \"Done.\";"
   ]
  },
  {
   "cell_type": "markdown",
   "metadata": {},
   "source": [
    "Edit the code:"
   ]
  },
  {
   "cell_type": "code",
   "execution_count": null,
   "metadata": {},
   "outputs": [
    {
     "name": "stdout",
     "output_type": "stream",
     "text": [
      "\n",
      "(java:5400): dbind-\u001b[1;33mWARNING\u001b[0m **: \u001b[34m00:32:31.578\u001b[0m: Couldn't connect to accessibility bus: Failed to connect to socket /tmp/dbus-JjGZS7oByQ: No such file or directory\n",
      "2022-01-16 00:32:39,600 [   8189]   WARN - l.NotificationGroupManagerImpl - Notification group CodeWithMe is already registered (group=com.intellij.notification.NotificationGroup@59dfdda6). Plugin descriptor: PluginDescriptor(name=Code With Me, id=com.jetbrains.codeWithMe, descriptorPath=plugin.xml, path=/opt/PhpStorm-212.5080.71/plugins/cwm-plugin, version=212.5080.71, package=null) \n",
      "2022-01-16 00:32:43,695 [  12284]   WARN - ctionSystem.impl.ActionUpdater - 1598 ms to expand group child GotoAction \n",
      "[JetBrains Runtime] Detected slow X11, switched off alpha compositing of images. Control with -Dremote.x11.workaround={true|false|auto}.\n",
      "2022-01-16 00:32:47,637 [  16226]   WARN - pl.local.NativeFileWatcherImpl - table error: collision at 1472 (new /home/student/php_2021_sklep_internetowy_z_obuwiem/.env/home/cache/JetBrains/PhpStorm2021.2/javascript/typings/lodash/4.14.178, existing /home/student/.cache/JetBrains/PhpStorm2021.2/javascript/typings/lodash/4.14.178) \n",
      "2022-01-16 00:32:47,682 [  16271]   WARN - pl.local.NativeFileWatcherImpl - Watcher terminated with exit code 3 \n",
      "2022-01-16 00:32:47,776 [  16365]   WARN - pl.local.NativeFileWatcherImpl - table error: collision at 2 (new /home/student/php_2021_sklep_internetowy_z_obuwiem/.env/home/cache/JetBrains/PhpStorm2021.2/javascript/typings/lodash/4.14.178, existing /home/student/.cache/JetBrains/PhpStorm2021.2/javascript/typings/lodash/4.14.178) \n",
      "2022-01-16 00:32:47,819 [  16408]   WARN - pl.local.NativeFileWatcherImpl - Watcher terminated with exit code 3 \n",
      "2022-01-16 00:32:47,901 [  16490]   WARN - pl.local.NativeFileWatcherImpl - table error: collision at 2 (new /home/student/php_2021_sklep_internetowy_z_obuwiem/.env/home/cache/JetBrains/PhpStorm2021.2/javascript/typings/lodash/4.14.178, existing /home/student/.cache/JetBrains/PhpStorm2021.2/javascript/typings/lodash/4.14.178) \n",
      "2022-01-16 00:32:47,915 [  16504]   WARN - pl.local.NativeFileWatcherImpl - Watcher terminated with exit code 3 \n",
      "2022-01-16 00:32:47,993 [  16582]   WARN - pl.local.NativeFileWatcherImpl - table error: collision at 2 (new /home/student/php_2021_sklep_internetowy_z_obuwiem/.env/home/cache/JetBrains/PhpStorm2021.2/javascript/typings/lodash/4.14.178, existing /home/student/.cache/JetBrains/PhpStorm2021.2/javascript/typings/lodash/4.14.178) \n",
      "2022-01-16 00:32:48,030 [  16619]   WARN - pl.local.NativeFileWatcherImpl - Watcher terminated with exit code 3 \n",
      "2022-01-16 00:32:48,107 [  16696]   WARN - pl.local.NativeFileWatcherImpl - table error: collision at 2 (new /home/student/php_2021_sklep_internetowy_z_obuwiem/.env/home/cache/JetBrains/PhpStorm2021.2/javascript/typings/lodash/4.14.178, existing /home/student/.cache/JetBrains/PhpStorm2021.2/javascript/typings/lodash/4.14.178) \n",
      "2022-01-16 00:32:48,140 [  16729]   WARN - pl.local.NativeFileWatcherImpl - Watcher terminated with exit code 3 \n",
      "2022-01-16 00:32:48,216 [  16805]   WARN - pl.local.NativeFileWatcherImpl - table error: collision at 2 (new /home/student/php_2021_sklep_internetowy_z_obuwiem/.env/home/cache/JetBrains/PhpStorm2021.2/javascript/typings/lodash/4.14.178, existing /home/student/.cache/JetBrains/PhpStorm2021.2/javascript/typings/lodash/4.14.178) \n",
      "2022-01-16 00:32:48,249 [  16838]   WARN - pl.local.NativeFileWatcherImpl - Watcher terminated with exit code 3 \n",
      "2022-01-16 00:32:48,347 [  16936]   WARN - pl.local.NativeFileWatcherImpl - table error: collision at 2 (new /home/student/php_2021_sklep_internetowy_z_obuwiem/.env/home/cache/JetBrains/PhpStorm2021.2/javascript/typings/lodash/4.14.178, existing /home/student/.cache/JetBrains/PhpStorm2021.2/javascript/typings/lodash/4.14.178) \n",
      "2022-01-16 00:32:48,363 [  16952]   WARN - pl.local.NativeFileWatcherImpl - Watcher terminated with exit code 3 \n",
      "2022-01-16 00:32:48,451 [  17040]  ERROR - terminal.emulator.JediEmulator - Unhandled Control sequence\n",
      "parsed                        :ESC[?2004h\n",
      "bytes read                    :ESC[ \n",
      "2022-01-16 00:32:48,456 [  17045]   WARN - pl.local.NativeFileWatcherImpl - table error: collision at 2 (new /home/student/php_2021_sklep_internetowy_z_obuwiem/.env/home/cache/JetBrains/PhpStorm2021.2/javascript/typings/lodash/4.14.178, existing /home/student/.cache/JetBrains/PhpStorm2021.2/javascript/typings/lodash/4.14.178) \n",
      "2022-01-16 00:32:48,458 [  17047]   WARN - pl.local.NativeFileWatcherImpl - Watcher terminated with exit code 3 \n",
      "2022-01-16 00:32:48,538 [  17127]   WARN - pl.local.NativeFileWatcherImpl - table error: collision at 2 (new /home/student/php_2021_sklep_internetowy_z_obuwiem/.env/home/cache/JetBrains/PhpStorm2021.2/javascript/typings/lodash/4.14.178, existing /home/student/.cache/JetBrains/PhpStorm2021.2/javascript/typings/lodash/4.14.178) \n",
      "2022-01-16 00:32:48,561 [  17150]   WARN - pl.local.NativeFileWatcherImpl - Watcher terminated with exit code 3 \n",
      "2022-01-16 00:32:48,643 [  17232]   WARN - pl.local.NativeFileWatcherImpl - table error: collision at 2 (new /home/student/php_2021_sklep_internetowy_z_obuwiem/.env/home/cache/JetBrains/PhpStorm2021.2/javascript/typings/lodash/4.14.178, existing /home/student/.cache/JetBrains/PhpStorm2021.2/javascript/typings/lodash/4.14.178) \n",
      "2022-01-16 00:32:48,673 [  17262]   WARN - pl.local.NativeFileWatcherImpl - Watcher terminated with exit code 3 \n",
      "2022-01-16 00:32:48,673 [  17262]   WARN - api.vfs.impl.local.FileWatcher - File watcher failed repeatedly and has been disabled \n",
      "2022-01-16 00:32:49,643 [  18232]   WARN - ctionSystem.impl.ActionUpdater - 1080 ms to expand group child CWMTelephonyGroup \n",
      "2022-01-16 00:32:49,644 [  18233]   WARN - ctionSystem.impl.ActionUpdater - 1081 ms to expand group child CodeWithMeNavbarGroup \n",
      "2022-01-16 00:32:49,847 [  18436]   WARN - com.intellij.util.xmlb.Binding - no accessors for com.jetbrains.php.testFramework.PhpTestFrameworkType \n",
      "2022-01-16 00:32:58,823 [  27412]   WARN -    #com.jetbrains.php.PhpIndex - Completing type '#C\\Illuminate\\Support\\Facades\\DB' took 1429ms, visited:[#C\\Illuminate\\Support\\Facades\\DB] \n",
      "2022-01-16 00:32:58,954 [  27543]   WARN -    #com.jetbrains.php.PhpIndex - Completing type '#M#π(#M#C\\Illuminate\\Support\\Facades\\DB.table)(\"roles\").where' took 1626ms, visited:[#M#π(#M#C\\Illuminate\\Support\\Facades\\DB.table)(\"roles\").where] \n",
      "[Sun Jan 16 00:33:05 2022] 127.0.0.1:47780 Accepted\n",
      "[Sun Jan 16 00:33:05 2022] 127.0.0.1:47780 Closing\n",
      "[Sun Jan 16 00:33:06 2022] 127.0.0.1:47784 Accepted\n",
      "[Sun Jan 16 00:33:06 2022] 127.0.0.1:47784 Closing\n",
      "[Sun Jan 16 00:33:06 2022] 127.0.0.1:47788 Accepted\n",
      "[Sun Jan 16 00:33:06 2022] 127.0.0.1:47788 Closing\n",
      "[Sun Jan 16 00:37:15 2022] 127.0.0.1:47810 Accepted\n",
      "[Sun Jan 16 00:37:15 2022] 127.0.0.1:47810 Closing\n",
      "[Sun Jan 16 00:37:16 2022] 127.0.0.1:47814 Accepted\n",
      "[Sun Jan 16 00:37:16 2022] 127.0.0.1:47814 Closing\n",
      "[Sun Jan 16 00:37:16 2022] 127.0.0.1:47818 Accepted\n",
      "[Sun Jan 16 00:37:16 2022] 127.0.0.1:47818 Closing\n"
     ]
    }
   ],
   "source": [
    "! phpstorm ../project"
   ]
  },
  {
   "cell_type": "markdown",
   "metadata": {},
   "source": [
    "You can test your solution using included tests:"
   ]
  },
  {
   "cell_type": "code",
   "execution_count": 3,
   "metadata": {},
   "outputs": [
    {
     "name": "stdout",
     "output_type": "stream",
     "text": [
      "/home/student/php_2021_sklep_internetowy_z_obuwiem/Project_PHP/project\n"
     ]
    }
   ],
   "source": [
    "%cd project"
   ]
  },
  {
   "cell_type": "code",
   "execution_count": 4,
   "metadata": {},
   "outputs": [
    {
     "name": "stdout",
     "output_type": "stream",
     "text": [
      "\u001b[32mInstalling dependencies from lock file (including require-dev)\u001b[39m\n",
      "\u001b[32mVerifying lock file contents can be installed on current platform.\u001b[39m\n",
      "Nothing to install, update or remove\n",
      "\u001b[30;43mPackage swiftmailer/swiftmailer is abandoned, you should avoid using it. Use symfony/mailer instead.\u001b[39;49m\n",
      "\u001b[32mGenerating optimized autoload files\u001b[39m\n",
      "> Illuminate\\Foundation\\ComposerScripts::postAutoloadDump\n",
      "> @php artisan package:discover --ansi\n",
      "Discovered Package: \u001b[32mfacade/ignition\u001b[39m\n",
      "Discovered Package: \u001b[32mfruitcake/laravel-cors\u001b[39m\n",
      "Discovered Package: \u001b[32mlaravel/breeze\u001b[39m\n",
      "Discovered Package: \u001b[32mlaravel/sail\u001b[39m\n",
      "Discovered Package: \u001b[32mlaravel/sanctum\u001b[39m\n",
      "Discovered Package: \u001b[32mlaravel/tinker\u001b[39m\n",
      "Discovered Package: \u001b[32mnesbot/carbon\u001b[39m\n",
      "Discovered Package: \u001b[32mnunomaduro/collision\u001b[39m\n",
      "Discovered Package: \u001b[32mspatie/laravel-markdown\u001b[39m\n",
      "\u001b[32mPackage manifest generated successfully.\u001b[39m\n",
      "\u001b[32m85 packages you are using are looking for funding.\u001b[39m\n",
      "\u001b[32mUse the `composer fund` command to find out more!\u001b[39m\n"
     ]
    }
   ],
   "source": [
    "! composer install"
   ]
  },
  {
   "cell_type": "code",
   "execution_count": 5,
   "metadata": {},
   "outputs": [],
   "source": [
    "! cp .env.example .env"
   ]
  },
  {
   "cell_type": "code",
   "execution_count": 32,
   "metadata": {},
   "outputs": [
    {
     "name": "stdout",
     "output_type": "stream",
     "text": [
      "\u001b[32mApplication key set successfully.\u001b[39m\r\n"
     ]
    }
   ],
   "source": [
    "! php artisan key:generate"
   ]
  },
  {
   "cell_type": "code",
   "execution_count": 33,
   "metadata": {},
   "outputs": [
    {
     "name": "stdout",
     "output_type": "stream",
     "text": [
      "Environment modified. Restarting server...\n",
      "\u001b[32mDropped all tables successfully.\u001b[39m\n",
      "[Sun Jan 16 00:32:20 2022] PHP 8.0.10 Development Server (http://127.0.0.1:8888) started\n",
      "\u001b[32mMigration table created successfully.\u001b[39m\n",
      "\u001b[33mMigrating:\u001b[39m 2013_01_15_094315_create_roles_table\n",
      "\u001b[32mMigrated:\u001b[39m  2013_01_15_094315_create_roles_table (38.31ms)\n",
      "\u001b[33mMigrating:\u001b[39m 2014_10_12_000000_create_users_table\n",
      "\u001b[32mMigrated:\u001b[39m  2014_10_12_000000_create_users_table (141.64ms)\n",
      "\u001b[33mMigrating:\u001b[39m 2014_10_12_100000_create_password_resets_table\n",
      "\u001b[32mMigrated:\u001b[39m  2014_10_12_100000_create_password_resets_table (108.51ms)\n",
      "\u001b[33mMigrating:\u001b[39m 2019_08_19_000000_create_failed_jobs_table\n",
      "\u001b[32mMigrated:\u001b[39m  2019_08_19_000000_create_failed_jobs_table (75.04ms)\n",
      "\u001b[33mMigrating:\u001b[39m 2019_12_14_000001_create_personal_access_tokens_table\n",
      "\u001b[32mMigrated:\u001b[39m  2019_12_14_000001_create_personal_access_tokens_table (78.72ms)\n",
      "\u001b[33mMigrating:\u001b[39m 2022_01_14_150047_create_products_table\n",
      "\u001b[32mMigrated:\u001b[39m  2022_01_14_150047_create_products_table (29.93ms)\n",
      "\u001b[33mMigrating:\u001b[39m 2022_01_14_152203_create_categories_table\n",
      "\u001b[32mMigrated:\u001b[39m  2022_01_14_152203_create_categories_table (91.96ms)\n",
      "\u001b[33mMigrating:\u001b[39m 2022_01_14_152355_create_subcategories_table\n",
      "\u001b[32mMigrated:\u001b[39m  2022_01_14_152355_create_subcategories_table (88.17ms)\n",
      "\u001b[33mMigrating:\u001b[39m 2022_01_14_152840_create_images_table\n",
      "\u001b[32mMigrated:\u001b[39m  2022_01_14_152840_create_images_table (21.80ms)\n",
      "\u001b[33mMigrating:\u001b[39m 2022_01_15_230054_create_addresses_table\n",
      "\u001b[32mMigrated:\u001b[39m  2022_01_15_230054_create_addresses_table (97.49ms)\n"
     ]
    }
   ],
   "source": [
    "! php artisan migrate:fresh"
   ]
  },
  {
   "cell_type": "code",
   "execution_count": 34,
   "metadata": {},
   "outputs": [
    {
     "name": "stdout",
     "output_type": "stream",
     "text": [
      "\u001b[33mSeeding:\u001b[39m Database\\Seeders\\RoleSeeder\n",
      "\u001b[32mSeeded:\u001b[39m  Database\\Seeders\\RoleSeeder (36.87ms)\n",
      "\u001b[33mSeeding:\u001b[39m Database\\Seeders\\UserSeeder\n",
      "\u001b[32mSeeded:\u001b[39m  Database\\Seeders\\UserSeeder (259.17ms)\n",
      "\u001b[33mSeeding:\u001b[39m Database\\Seeders\\ProductSeeder\n",
      "\u001b[32mSeeded:\u001b[39m  Database\\Seeders\\ProductSeeder (20.69ms)\n",
      "\u001b[33mSeeding:\u001b[39m Database\\Seeders\\AddressSeeder\n",
      "\u001b[32mSeeded:\u001b[39m  Database\\Seeders\\AddressSeeder (6.24ms)\n",
      "\u001b[32mDatabase seeding completed successfully.\u001b[39m\n"
     ]
    }
   ],
   "source": [
    "! php artisan db:seed"
   ]
  },
  {
   "cell_type": "code",
   "execution_count": 35,
   "metadata": {},
   "outputs": [
    {
     "name": "stdout",
     "output_type": "stream",
     "text": [
      "mysqldump: [Warning] Using a password on the command line interface can be insecure.\r\n"
     ]
    }
   ],
   "source": [
    "! mysqldump -h127.0.0.1 -u root --password=root123 test > tests_codeception/_data/dump.sql"
   ]
  },
  {
   "cell_type": "code",
   "execution_count": 36,
   "metadata": {},
   "outputs": [
    {
     "name": "stdout",
     "output_type": "stream",
     "text": [
      "Starting Laravel development server: http://127.0.0.1:8888\n",
      "[Sun Jan 16 00:32:26 2022] Failed to listen on 127.0.0.1:8888 (reason: Address already in use)\n"
     ]
    }
   ],
   "source": [
    "import subprocess\n",
    "artisanServe = subprocess.Popen(['php', 'artisan', 'serve', '--port', '8888'])"
   ]
  },
  {
   "cell_type": "code",
   "execution_count": 14,
   "metadata": {},
   "outputs": [
    {
     "name": "stdout",
     "output_type": "stream",
     "text": [
      "Starting Laravel development server: http://127.0.0.1:8888\n",
      "[Fri Jan 14 15:18:22 2022] Failed to listen on 127.0.0.1:8888 (reason: Address already in use)\n",
      "Codeception PHP Testing Framework v4.1.22\n",
      "Powered by PHPUnit 9.5.10 by Sebastian Bergmann and contributors.\n",
      "\n",
      "\u001b[1mAcceptance Tests (1) \u001b[22m-----------------------------------------------------------\n",
      "\u001b[32;1m✔\u001b[39;22m \u001b[35;1m01_HomepageCept:\u001b[39;22m See homepage \u001b[32m(0.50s)\u001b[39m\n",
      "--------------------------------------------------------------------------------\n",
      "\n",
      "\n",
      "Time: 00:02.724, Memory: 14.00 MB\n",
      "\n",
      "\u001b[30;42mOK (1 test, 1 assertion)\u001b[0m\n"
     ]
    }
   ],
   "source": [
    "! vendor/bin/codecept run"
   ]
  },
  {
   "cell_type": "code",
   "execution_count": 33,
   "metadata": {},
   "outputs": [
    {
     "name": "stdout",
     "output_type": "stream",
     "text": [
      "php8.0: no process found\r\n"
     ]
    }
   ],
   "source": [
    "! killall php php8.0"
   ]
  },
  {
   "cell_type": "code",
   "execution_count": 15,
   "metadata": {},
   "outputs": [
    {
     "name": "stdout",
     "output_type": "stream",
     "text": [
      "/home/student/php_2021_sklep_internetowy_z_obuwiem/Project_PHP\n"
     ]
    }
   ],
   "source": [
    "%cd .."
   ]
  },
  {
   "cell_type": "markdown",
   "metadata": {},
   "source": [
    "Stop database:"
   ]
  },
  {
   "cell_type": "code",
   "execution_count": 32,
   "metadata": {},
   "outputs": [
    {
     "name": "stdout",
     "output_type": "stream",
     "text": [
      "mysql\r\n"
     ]
    }
   ],
   "source": [
    "! sudo docker container stop mysql"
   ]
  }
 ],
 "metadata": {
  "kernelspec": {
   "display_name": "Python 3 (ipykernel)",
   "language": "python",
   "name": "python3"
  },
  "language_info": {
   "codemirror_mode": {
    "name": "ipython",
    "version": 3
   },
   "file_extension": ".py",
   "mimetype": "text/x-python",
   "name": "python",
   "nbconvert_exporter": "python",
   "pygments_lexer": "ipython3",
   "version": "3.9.5"
  }
 },
 "nbformat": 4,
 "nbformat_minor": 4
}
