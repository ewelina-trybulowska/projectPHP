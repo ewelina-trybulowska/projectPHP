{
 "cells": [
  {
   "cell_type": "markdown",
   "metadata": {},
   "source": [
    "# PHP 2021/2022"
   ]
  },
  {
   "cell_type": "markdown",
   "metadata": {},
   "source": [
    "## Sklep internetowy z obuwiem"
   ]
  },
  {
   "cell_type": "markdown",
   "metadata": {},
   "source": [
    "Opis:\n",
    "- Kupujący mają możliwość zarejestrowania się do serwisu i późniejszego zalogowania \n",
    "- Zakupów można dokonać również bez rejestracji \n",
    "- Osoba zainteresowana kupnem określonego obuwia może określić preferowane cechy np. rozmiar, kolor, rodzaj obuwia itp \n",
    "- Kupujący ma możliwość wykorzystania kuponu rabatowego podczas zakupów \n",
    "- Jeśli brakuje danego obuwia po przefiltrowaniu wyświetlany jest stosowny komunikat o braku dostępności \n",
    "- Zarejestrowany użytkownik ma możliwość przeglądania historii swoich zakupów i ocenienia ich \n",
    "- Serwis posiada również rolę administratora strony/sprzedawcy, który ma możliwość dodawać produkty, ich opis oraz cenę."
   ]
  },
  {
   "cell_type": "markdown",
   "metadata": {},
   "source": [
    "Autorzy:\n",
    "\n",
    "- Kamila Soćko\n",
    "- Ewelina Trybułowska\n",
    "- Pualina Szymanek\n",
    "- Dorota Zub"
   ]
  },
  {
   "cell_type": "markdown",
   "metadata": {},
   "source": [
    "Start database:"
   ]
  },
  {
   "cell_type": "code",
   "execution_count": 1,
   "metadata": {},
   "outputs": [
    {
     "name": "stdout",
     "output_type": "stream",
     "text": [
      "a59c207e697eeec28cef7e402544373814befba3ccd52f4103fc5fe7b9ab13b0\r\n"
     ]
    }
   ],
   "source": [
    "! sudo docker run --name=mysql --net=host --rm --env MYSQL_ROOT_PASSWORD=root123 --env MYSQL_ROOT_HOST=% --env MYSQL_DATABASE=test --env MYSQL_USER=test --env MYSQL_PASSWORD=test123 -d mysql/mysql-server:8.0"
   ]
  },
  {
   "cell_type": "code",
   "execution_count": 2,
   "metadata": {},
   "outputs": [
    {
     "name": "stdout",
     "output_type": "stream",
     "text": [
      "Done.\r\n"
     ]
    }
   ],
   "source": [
    "! while ! timeout 1 bash -c \"echo > /dev/tcp/localhost/3306\" 2> /dev/null; do sleep 1; done; echo \"Done.\";"
   ]
  },
  {
   "cell_type": "markdown",
   "metadata": {},
   "source": [
    "Edit the code:"
   ]
  },
  {
   "cell_type": "code",
   "execution_count": null,
   "metadata": {},
   "outputs": [
    {
     "name": "stdout",
     "output_type": "stream",
     "text": [
      "\n",
      "(java:241): dbind-\u001b[1;33mWARNING\u001b[0m **: \u001b[34m13:09:14.634\u001b[0m: Couldn't connect to accessibility bus: Failed to connect to socket /tmp/dbus-JDIvHmb9jQ: No such file or directory\n",
      "2022-01-16 13:09:21,994 [   7655]   WARN - l.NotificationGroupManagerImpl - Notification group CodeWithMe is already registered (group=com.intellij.notification.NotificationGroup@35197472). Plugin descriptor: PluginDescriptor(name=Code With Me, id=com.jetbrains.codeWithMe, descriptorPath=plugin.xml, path=/opt/PhpStorm-212.5080.71/plugins/cwm-plugin, version=212.5080.71, package=null) \n",
      "2022-01-16 13:09:22,547 [   8208]  ERROR - nSystem.impl.ActionManagerImpl - Assertion failed \n",
      "java.lang.Throwable: Assertion failed\n",
      "\tat com.intellij.openapi.diagnostic.Logger.assertTrue(Logger.java:218)\n",
      "\tat com.intellij.openapi.diagnostic.Logger.assertTrue(Logger.java:227)\n",
      "\tat com.intellij.openapi.actionSystem.impl.ActionManagerImpl.<init>(ActionManagerImpl.java:139)\n",
      "\tat com.jetbrains.rdserver.ui.actionPopupMenu.BackendActionManager.<init>(BackendActionManager.kt:14)\n",
      "\tat java.base/jdk.internal.reflect.NativeConstructorAccessorImpl.newInstance0(Native Method)\n",
      "\tat java.base/jdk.internal.reflect.NativeConstructorAccessorImpl.newInstance(NativeConstructorAccessorImpl.java:62)\n",
      "\tat java.base/jdk.internal.reflect.DelegatingConstructorAccessorImpl.newInstance(DelegatingConstructorAccessorImpl.java:45)\n",
      "\tat java.base/java.lang.reflect.Constructor.newInstance(Constructor.java:490)\n",
      "\tat com.intellij.serviceContainer.ConstructorInjectionKt.instantiateUsingPicoContainer(constructorInjection.kt:47)\n",
      "\tat com.intellij.serviceContainer.ComponentManagerImpl.instantiateClassWithConstructorInjection(ComponentManagerImpl.kt:877)\n",
      "\tat com.intellij.serviceContainer.ServiceComponentAdapter.createAndInitialize(ServiceComponentAdapter.kt:48)\n",
      "\tat com.intellij.serviceContainer.ServiceComponentAdapter.doCreateInstance(ServiceComponentAdapter.kt:36)\n",
      "\tat com.intellij.serviceContainer.BaseComponentAdapter.getInstanceUncached(BaseComponentAdapter.kt:113)\n",
      "\tat com.intellij.serviceContainer.BaseComponentAdapter.getInstance(BaseComponentAdapter.kt:67)\n",
      "\tat com.intellij.serviceContainer.BaseComponentAdapter.getInstance$default(BaseComponentAdapter.kt:60)\n",
      "\tat com.intellij.serviceContainer.ComponentManagerImpl.doGetService(ComponentManagerImpl.kt:590)\n",
      "\tat com.intellij.serviceContainer.ComponentManagerImpl.getService(ComponentManagerImpl.kt:573)\n",
      "\tat com.intellij.openapi.client.ClientAwareComponentManager.getFromSelfOrCurrentSession(ClientAwareComponentManager.kt:37)\n",
      "\tat com.intellij.openapi.client.ClientAwareComponentManager.getService(ClientAwareComponentManager.kt:22)\n",
      "\tat com.intellij.openapi.actionSystem.ActionManager.getInstance(ActionManager.java:30)\n",
      "\tat com.intellij.ide.ui.customization.CustomActionsSchema.getCorrectedAction(CustomActionsSchema.java:289)\n",
      "\tat com.intellij.ide.navigationToolbar.NavBarRootPaneExtension.runToolbarExists(NavBarRootPaneExtension.java:75)\n",
      "\tat com.intellij.ide.navigationToolbar.NavBarBorder.getBorderInsets(NavBarBorder.java:45)\n",
      "\tat java.desktop/javax.swing.JComponent.setBorder(JComponent.java:1815)\n",
      "\tat com.intellij.ide.navigationToolbar.NavBarRootPaneExtension$3.updateUI(NavBarRootPaneExtension.java:234)\n",
      "\tat java.desktop/javax.swing.JPanel.<init>(JPanel.java:86)\n",
      "\tat java.desktop/javax.swing.JPanel.<init>(JPanel.java:95)\n",
      "\tat com.intellij.ide.navigationToolbar.NavBarRootPaneExtension$3.<init>(NavBarRootPaneExtension.java:197)\n",
      "\tat com.intellij.ide.navigationToolbar.NavBarRootPaneExtension.buildNavBarPanel(NavBarRootPaneExtension.java:197)\n",
      "\tat com.intellij.ide.navigationToolbar.NavBarRootPaneExtension.addNavigationBarPanel(NavBarRootPaneExtension.java:106)\n",
      "\tat com.intellij.ide.navigationToolbar.NavBarRootPaneExtension.getComponent(NavBarRootPaneExtension.java:99)\n",
      "\tat com.intellij.openapi.wm.impl.IdeRootPane.installNorthComponents(IdeRootPane.java:329)\n",
      "\tat com.intellij.openapi.wm.impl.ProjectFrameHelper.setProject(ProjectFrameHelper.java:376)\n",
      "\tat com.intellij.openapi.wm.impl.WindowManagerImpl.assignFrame(WindowManagerImpl.kt:281)\n",
      "\tat com.intellij.openapi.project.impl.ProjectUiFrameAllocator$projectLoaded$1.run(ProjectFrameAllocator.kt:171)\n",
      "\tat com.intellij.openapi.application.TransactionGuardImpl.runWithWritingAllowed(TransactionGuardImpl.java:214)\n",
      "\tat com.intellij.openapi.application.TransactionGuardImpl.access$200(TransactionGuardImpl.java:21)\n",
      "\tat com.intellij.openapi.application.TransactionGuardImpl$2.run(TransactionGuardImpl.java:196)\n",
      "\tat com.intellij.openapi.application.impl.ApplicationImpl.runIntendedWriteActionOnCurrentThread(ApplicationImpl.java:794)\n",
      "\tat com.intellij.openapi.application.impl.ApplicationImpl.lambda$invokeLater$4(ApplicationImpl.java:350)\n",
      "\tat com.intellij.openapi.application.impl.FlushQueue.doRun(FlushQueue.java:84)\n",
      "\tat com.intellij.openapi.application.impl.FlushQueue.runNextEvent(FlushQueue.java:133)\n",
      "\tat com.intellij.openapi.application.impl.FlushQueue.flushNow(FlushQueue.java:46)\n",
      "\tat com.intellij.openapi.application.impl.FlushQueue$FlushNow.run(FlushQueue.java:189)\n",
      "\tat java.desktop/java.awt.event.InvocationEvent.dispatch(InvocationEvent.java:313)\n",
      "\tat java.desktop/java.awt.EventQueue.dispatchEventImpl(EventQueue.java:776)\n",
      "\tat java.desktop/java.awt.EventQueue$4.run(EventQueue.java:727)\n",
      "\tat java.desktop/java.awt.EventQueue$4.run(EventQueue.java:721)\n",
      "\tat java.base/java.security.AccessController.doPrivileged(Native Method)\n",
      "\tat java.base/java.security.ProtectionDomain$JavaSecurityAccessImpl.doIntersectionPrivilege(ProtectionDomain.java:85)\n",
      "\tat java.desktop/java.awt.EventQueue.dispatchEvent(EventQueue.java:746)\n",
      "\tat com.intellij.ide.IdeEventQueue.defaultDispatchEvent(IdeEventQueue.java:887)\n",
      "\tat com.intellij.ide.IdeEventQueue._dispatchEvent(IdeEventQueue.java:756)\n",
      "\tat com.intellij.ide.IdeEventQueue.lambda$dispatchEvent$7(IdeEventQueue.java:443)\n",
      "\tat com.intellij.openapi.progress.impl.CoreProgressManager.computePrioritized(CoreProgressManager.java:825)\n",
      "\tat com.intellij.ide.IdeEventQueue.lambda$dispatchEvent$8(IdeEventQueue.java:442)\n",
      "\tat com.intellij.openapi.application.impl.ApplicationImpl.runIntendedWriteActionOnCurrentThread(ApplicationImpl.java:794)\n",
      "\tat com.intellij.ide.IdeEventQueue.dispatchEvent(IdeEventQueue.java:488)\n",
      "\tat java.desktop/java.awt.EventDispatchThread.pumpOneEventForFilters(EventDispatchThread.java:203)\n",
      "\tat java.desktop/java.awt.EventDispatchThread.pumpEventsForFilter(EventDispatchThread.java:124)\n",
      "\tat java.desktop/java.awt.EventDispatchThread.pumpEventsForHierarchy(EventDispatchThread.java:113)\n",
      "\tat java.desktop/java.awt.EventDispatchThread.pumpEvents(EventDispatchThread.java:109)\n",
      "\tat java.desktop/java.awt.EventDispatchThread.pumpEvents(EventDispatchThread.java:101)\n",
      "\tat java.desktop/java.awt.EventDispatchThread.run(EventDispatchThread.java:90)\n",
      "2022-01-16 13:09:22,560 [   8221]  ERROR - nSystem.impl.ActionManagerImpl - PhpStorm 2021.2.1  Build #PS-212.5080.71 \n",
      "2022-01-16 13:09:22,561 [   8222]  ERROR - nSystem.impl.ActionManagerImpl - JDK: 11.0.11; VM: OpenJDK 64-Bit Server VM; Vendor: JetBrains s.r.o. \n",
      "2022-01-16 13:09:22,561 [   8222]  ERROR - nSystem.impl.ActionManagerImpl - OS: Linux \n",
      "2022-01-16 13:09:22,562 [   8223]  ERROR - nSystem.impl.ActionManagerImpl - Last Action:  \n",
      "[JetBrains Runtime] Detected slow X11, switched off alpha compositing of images. Control with -Dremote.x11.workaround={true|false|auto}.\n",
      "2022-01-16 13:09:31,435 [  17096]   WARN - pl.local.NativeFileWatcherImpl - table error: collision at 1479 (new /home/student/php_2021_sklep_internetowy_z_obuwiem/.env/home/cache/JetBrains/PhpStorm2021.2/javascript/typings/lodash/4.14.178, existing /home/student/.cache/JetBrains/PhpStorm2021.2/javascript/typings/lodash/4.14.178) \n",
      "2022-01-16 13:09:31,485 [  17146]   WARN - pl.local.NativeFileWatcherImpl - Watcher terminated with exit code 3 \n",
      "2022-01-16 13:09:31,579 [  17240]   WARN - pl.local.NativeFileWatcherImpl - table error: collision at 2 (new /home/student/php_2021_sklep_internetowy_z_obuwiem/.env/home/cache/JetBrains/PhpStorm2021.2/javascript/typings/lodash/4.14.178, existing /home/student/.cache/JetBrains/PhpStorm2021.2/javascript/typings/lodash/4.14.178) \n",
      "2022-01-16 13:09:31,601 [  17262]   WARN - pl.local.NativeFileWatcherImpl - Watcher terminated with exit code 3 \n"
     ]
    },
    {
     "name": "stdout",
     "output_type": "stream",
     "text": [
      "2022-01-16 13:09:31,685 [  17346]   WARN - pl.local.NativeFileWatcherImpl - table error: collision at 2 (new /home/student/php_2021_sklep_internetowy_z_obuwiem/.env/home/cache/JetBrains/PhpStorm2021.2/javascript/typings/lodash/4.14.178, existing /home/student/.cache/JetBrains/PhpStorm2021.2/javascript/typings/lodash/4.14.178) \n",
      "2022-01-16 13:09:31,760 [  17421]   WARN - pl.local.NativeFileWatcherImpl - Watcher terminated with exit code 3 \n",
      "2022-01-16 13:09:31,847 [  17508]   WARN - pl.local.NativeFileWatcherImpl - table error: collision at 2 (new /home/student/php_2021_sklep_internetowy_z_obuwiem/.env/home/cache/JetBrains/PhpStorm2021.2/javascript/typings/lodash/4.14.178, existing /home/student/.cache/JetBrains/PhpStorm2021.2/javascript/typings/lodash/4.14.178) \n",
      "2022-01-16 13:09:31,871 [  17532]   WARN - pl.local.NativeFileWatcherImpl - Watcher terminated with exit code 3 \n",
      "2022-01-16 13:09:32,024 [  17685]   WARN - pl.local.NativeFileWatcherImpl - table error: collision at 2 (new /home/student/php_2021_sklep_internetowy_z_obuwiem/.env/home/cache/JetBrains/PhpStorm2021.2/javascript/typings/lodash/4.14.178, existing /home/student/.cache/JetBrains/PhpStorm2021.2/javascript/typings/lodash/4.14.178) \n",
      "2022-01-16 13:09:32,047 [  17708]   WARN - pl.local.NativeFileWatcherImpl - Watcher terminated with exit code 3 \n",
      "2022-01-16 13:09:32,124 [  17785]   WARN - pl.local.NativeFileWatcherImpl - table error: collision at 2 (new /home/student/php_2021_sklep_internetowy_z_obuwiem/.env/home/cache/JetBrains/PhpStorm2021.2/javascript/typings/lodash/4.14.178, existing /home/student/.cache/JetBrains/PhpStorm2021.2/javascript/typings/lodash/4.14.178) \n",
      "2022-01-16 13:09:32,148 [  17809]   WARN - pl.local.NativeFileWatcherImpl - Watcher terminated with exit code 3 \n",
      "2022-01-16 13:09:32,235 [  17896]   WARN - pl.local.NativeFileWatcherImpl - table error: collision at 2 (new /home/student/php_2021_sklep_internetowy_z_obuwiem/.env/home/cache/JetBrains/PhpStorm2021.2/javascript/typings/lodash/4.14.178, existing /home/student/.cache/JetBrains/PhpStorm2021.2/javascript/typings/lodash/4.14.178) \n",
      "2022-01-16 13:09:32,263 [  17924]   WARN - pl.local.NativeFileWatcherImpl - Watcher terminated with exit code 3 \n",
      "2022-01-16 13:09:32,338 [  17999]   WARN - pl.local.NativeFileWatcherImpl - table error: collision at 2 (new /home/student/php_2021_sklep_internetowy_z_obuwiem/.env/home/cache/JetBrains/PhpStorm2021.2/javascript/typings/lodash/4.14.178, existing /home/student/.cache/JetBrains/PhpStorm2021.2/javascript/typings/lodash/4.14.178) \n",
      "2022-01-16 13:09:32,363 [  18024]   WARN - pl.local.NativeFileWatcherImpl - Watcher terminated with exit code 3 \n",
      "2022-01-16 13:09:32,466 [  18127]   WARN - pl.local.NativeFileWatcherImpl - table error: collision at 2 (new /home/student/php_2021_sklep_internetowy_z_obuwiem/.env/home/cache/JetBrains/PhpStorm2021.2/javascript/typings/lodash/4.14.178, existing /home/student/.cache/JetBrains/PhpStorm2021.2/javascript/typings/lodash/4.14.178) \n",
      "2022-01-16 13:09:32,490 [  18151]   WARN - pl.local.NativeFileWatcherImpl - Watcher terminated with exit code 3 \n",
      "2022-01-16 13:09:32,584 [  18245]   WARN - pl.local.NativeFileWatcherImpl - table error: collision at 2 (new /home/student/php_2021_sklep_internetowy_z_obuwiem/.env/home/cache/JetBrains/PhpStorm2021.2/javascript/typings/lodash/4.14.178, existing /home/student/.cache/JetBrains/PhpStorm2021.2/javascript/typings/lodash/4.14.178) \n",
      "2022-01-16 13:09:32,602 [  18263]   WARN - pl.local.NativeFileWatcherImpl - Watcher terminated with exit code 3 \n",
      "2022-01-16 13:09:32,603 [  18264]   WARN - api.vfs.impl.local.FileWatcher - File watcher failed repeatedly and has been disabled \n",
      "2022-01-16 13:09:33,299 [  18960]   WARN - ctionSystem.impl.ActionUpdater - 1414 ms to expand group child CWMTelephonyGroup \n",
      "2022-01-16 13:09:33,299 [  18960]   WARN - ctionSystem.impl.ActionUpdater - 1422 ms to expand group child CodeWithMeNavbarGroup \n",
      "2022-01-16 13:09:33,701 [  19362]   WARN - com.intellij.util.xmlb.Binding - no accessors for com.jetbrains.php.testFramework.PhpTestFrameworkType \n",
      "2022-01-16 13:10:21,715 [  67376]   WARN - ctionSystem.impl.ActionUpdater - Slow (106 ms) `com.intellij.application.options.colors.FontEditorPreview$RestorePreviewTextAction#update`. Consider speeding it up and/or implementing UpdateInBackground. \n",
      "2022-01-16 13:10:35,264 [  80925]  ERROR - terminal.emulator.JediEmulator - Unhandled Control sequence\n",
      "parsed                        :ESC[?2004h\n",
      "bytes read                    :ESC[ \n",
      "2022-01-16 13:10:37,009 [  82670]  ERROR - terminal.emulator.JediEmulator - Unhandled Control sequence\n",
      "parsed                        :ESC[?2004h\n",
      "bytes read                    :ESC[ \n",
      "2022-01-16 13:10:38,485 [  84146]  ERROR - terminal.emulator.JediEmulator - Unhandled Control sequence\n",
      "parsed                        :ESC[?2004l\n",
      "bytes read                    :ESC[ \n"
     ]
    }
   ],
   "source": [
    "! phpstorm ../project"
   ]
  },
  {
   "cell_type": "markdown",
   "metadata": {},
   "source": [
    "You can test your solution using included tests:"
   ]
  },
  {
   "cell_type": "code",
   "execution_count": 3,
   "metadata": {},
   "outputs": [
    {
     "name": "stdout",
     "output_type": "stream",
     "text": [
      "/home/student/php_2021_sklep_internetowy_z_obuwiem/Project_PHP/project\n"
     ]
    }
   ],
   "source": [
    "%cd project"
   ]
  },
  {
   "cell_type": "code",
   "execution_count": 4,
   "metadata": {},
   "outputs": [
    {
     "name": "stdout",
     "output_type": "stream",
     "text": [
      "\u001b[32mInstalling dependencies from lock file (including require-dev)\u001b[39m\n",
      "\u001b[32mVerifying lock file contents can be installed on current platform.\u001b[39m\n",
      "Nothing to install, update or remove\n",
      "\u001b[30;43mPackage swiftmailer/swiftmailer is abandoned, you should avoid using it. Use symfony/mailer instead.\u001b[39;49m\n",
      "\u001b[32mGenerating optimized autoload files\u001b[39m\n",
      "> Illuminate\\Foundation\\ComposerScripts::postAutoloadDump\n",
      "> @php artisan package:discover --ansi\n",
      "Discovered Package: \u001b[32mfacade/ignition\u001b[39m\n",
      "Discovered Package: \u001b[32mfruitcake/laravel-cors\u001b[39m\n",
      "Discovered Package: \u001b[32mlaravel/breeze\u001b[39m\n",
      "Discovered Package: \u001b[32mlaravel/sail\u001b[39m\n",
      "Discovered Package: \u001b[32mlaravel/sanctum\u001b[39m\n",
      "Discovered Package: \u001b[32mlaravel/tinker\u001b[39m\n",
      "Discovered Package: \u001b[32mnesbot/carbon\u001b[39m\n",
      "Discovered Package: \u001b[32mnunomaduro/collision\u001b[39m\n",
      "Discovered Package: \u001b[32mspatie/laravel-markdown\u001b[39m\n",
      "\u001b[32mPackage manifest generated successfully.\u001b[39m\n",
      "\u001b[32m85 packages you are using are looking for funding.\u001b[39m\n",
      "\u001b[32mUse the `composer fund` command to find out more!\u001b[39m\n"
     ]
    }
   ],
   "source": [
    "! composer install"
   ]
  },
  {
   "cell_type": "code",
   "execution_count": 5,
   "metadata": {},
   "outputs": [],
   "source": [
    "! cp .env.example .env"
   ]
  },
  {
   "cell_type": "code",
   "execution_count": 6,
   "metadata": {},
   "outputs": [
    {
     "name": "stdout",
     "output_type": "stream",
     "text": [
      "\u001b[32mApplication key set successfully.\u001b[39m\r\n"
     ]
    }
   ],
   "source": [
    "! php artisan key:generate"
   ]
  },
  {
   "cell_type": "code",
   "execution_count": 7,
   "metadata": {},
   "outputs": [
    {
     "name": "stdout",
     "output_type": "stream",
     "text": [
      "\u001b[32mDropped all tables successfully.\u001b[39m\n",
      "\u001b[32mMigration table created successfully.\u001b[39m\n",
      "\u001b[33mMigrating:\u001b[39m 2013_01_15_094315_create_roles_table\n",
      "\u001b[32mMigrated:\u001b[39m  2013_01_15_094315_create_roles_table (47.25ms)\n",
      "\u001b[33mMigrating:\u001b[39m 2014_10_12_000000_create_users_table\n",
      "\u001b[32mMigrated:\u001b[39m  2014_10_12_000000_create_users_table (213.89ms)\n",
      "\u001b[33mMigrating:\u001b[39m 2014_10_12_100000_create_password_resets_table\n",
      "\u001b[32mMigrated:\u001b[39m  2014_10_12_100000_create_password_resets_table (51.18ms)\n",
      "\u001b[33mMigrating:\u001b[39m 2019_08_19_000000_create_failed_jobs_table\n",
      "\u001b[32mMigrated:\u001b[39m  2019_08_19_000000_create_failed_jobs_table (61.51ms)\n",
      "\u001b[33mMigrating:\u001b[39m 2019_12_14_000001_create_personal_access_tokens_table\n",
      "\u001b[32mMigrated:\u001b[39m  2019_12_14_000001_create_personal_access_tokens_table (85.94ms)\n",
      "\u001b[33mMigrating:\u001b[39m 2022_01_14_150047_create_categories_table\n",
      "\u001b[32mMigrated:\u001b[39m  2022_01_14_150047_create_categories_table (27.23ms)\n",
      "\u001b[33mMigrating:\u001b[39m 2022_01_14_152203_create_products_table\n",
      "\u001b[32mMigrated:\u001b[39m  2022_01_14_152203_create_products_table (139.62ms)\n",
      "\u001b[33mMigrating:\u001b[39m 2022_01_14_152355_create_subcategories_table\n",
      "\u001b[32mMigrated:\u001b[39m  2022_01_14_152355_create_subcategories_table (35.88ms)\n",
      "\u001b[33mMigrating:\u001b[39m 2022_01_14_152840_create_images_table\n",
      "\u001b[32mMigrated:\u001b[39m  2022_01_14_152840_create_images_table (34.59ms)\n",
      "\u001b[33mMigrating:\u001b[39m 2022_01_15_230054_create_addresses_table\n",
      "\u001b[32mMigrated:\u001b[39m  2022_01_15_230054_create_addresses_table (120.75ms)\n"
     ]
    }
   ],
   "source": [
    "! php artisan migrate:fresh"
   ]
  },
  {
   "cell_type": "code",
   "execution_count": 8,
   "metadata": {},
   "outputs": [
    {
     "name": "stdout",
     "output_type": "stream",
     "text": [
      "\u001b[33mSeeding:\u001b[39m Database\\Seeders\\RoleSeeder\n",
      "\u001b[32mSeeded:\u001b[39m  Database\\Seeders\\RoleSeeder (21.59ms)\n",
      "\u001b[33mSeeding:\u001b[39m Database\\Seeders\\UserSeeder\n",
      "\u001b[32mSeeded:\u001b[39m  Database\\Seeders\\UserSeeder (268.52ms)\n",
      "\u001b[33mSeeding:\u001b[39m Database\\Seeders\\CategorySeeder\n",
      "\u001b[32mSeeded:\u001b[39m  Database\\Seeders\\CategorySeeder (5.89ms)\n",
      "\u001b[33mSeeding:\u001b[39m Database\\Seeders\\ProductSeeder\n",
      "\u001b[32mSeeded:\u001b[39m  Database\\Seeders\\ProductSeeder (37.40ms)\n",
      "\u001b[33mSeeding:\u001b[39m Database\\Seeders\\AddressSeeder\n",
      "\u001b[32mSeeded:\u001b[39m  Database\\Seeders\\AddressSeeder (5.84ms)\n",
      "\u001b[32mDatabase seeding completed successfully.\u001b[39m\n"
     ]
    }
   ],
   "source": [
    "! php artisan db:seed"
   ]
  },
  {
   "cell_type": "code",
   "execution_count": 9,
   "metadata": {},
   "outputs": [
    {
     "name": "stdout",
     "output_type": "stream",
     "text": [
      "mysqldump: [Warning] Using a password on the command line interface can be insecure.\r\n"
     ]
    }
   ],
   "source": [
    "! mysqldump -h127.0.0.1 -u root --password=root123 test > tests_codeception/_data/dump.sql"
   ]
  },
  {
   "cell_type": "code",
   "execution_count": 10,
   "metadata": {},
   "outputs": [
    {
     "name": "stdout",
     "output_type": "stream",
     "text": [
      "PHPUnit 9.5.10 by Sebastian Bergmann and contributors.\n",
      "\n",
      ".................                                                 17 / 17 (100%)\n",
      "\n",
      "Time: 00:02.700, Memory: 38.00 MB\n",
      "\n",
      "\u001b[30;42mOK (17 tests, 27 assertions)\u001b[0m\n"
     ]
    }
   ],
   "source": [
    "! vendor/bin/phpunit --log-junit tests/_output/test_report.xml"
   ]
  },
  {
   "cell_type": "code",
   "execution_count": 11,
   "metadata": {},
   "outputs": [],
   "source": [
    "import subprocess\n",
    "artisanServe = subprocess.Popen(['php', 'artisan', 'serve', '--port', '8888'])"
   ]
  },
  {
   "cell_type": "code",
   "execution_count": null,
   "metadata": {},
   "outputs": [],
   "source": [
    "! vendor/bin/codecept run"
   ]
  },
  {
   "cell_type": "code",
   "execution_count": null,
   "metadata": {},
   "outputs": [],
   "source": [
    "! killall php php8.0"
   ]
  },
  {
   "cell_type": "code",
   "execution_count": null,
   "metadata": {},
   "outputs": [],
   "source": [
    "%cd .."
   ]
  },
  {
   "cell_type": "markdown",
   "metadata": {},
   "source": [
    "Stop database:"
   ]
  },
  {
   "cell_type": "code",
   "execution_count": null,
   "metadata": {},
   "outputs": [],
   "source": [
    "! sudo docker container stop mysql"
   ]
  }
 ],
 "metadata": {
  "kernelspec": {
   "display_name": "Python 3 (ipykernel)",
   "language": "python",
   "name": "python3"
  },
  "language_info": {
   "codemirror_mode": {
    "name": "ipython",
    "version": 3
   },
   "file_extension": ".py",
   "mimetype": "text/x-python",
   "name": "python",
   "nbconvert_exporter": "python",
   "pygments_lexer": "ipython3",
   "version": "3.9.5"
  }
 },
 "nbformat": 4,
 "nbformat_minor": 4
}
