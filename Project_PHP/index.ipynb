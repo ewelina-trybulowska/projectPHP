{
 "cells": [
  {
   "cell_type": "markdown",
   "metadata": {},
   "source": [
    "# PHP 2021/2022"
   ]
  },
  {
   "cell_type": "markdown",
   "metadata": {},
   "source": [
    "## Sklep internetowy z obuwiem"
   ]
  },
  {
   "cell_type": "markdown",
   "metadata": {},
   "source": [
    "Opis:\n",
    "- Kupujący mają możliwość zarejestrowania się do serwisu i późniejszego zalogowania \n",
    "- Zakupów można dokonać również bez rejestracji \n",
    "- Osoba zainteresowana kupnem określonego obuwia może określić preferowane cechy np. rozmiar, kolor, rodzaj obuwia itp \n",
    "- Kupujący ma możliwość wykorzystania kuponu rabatowego podczas zakupów \n",
    "- Jeśli brakuje danego obuwia po przefiltrowaniu wyświetlany jest stosowny komunikat o braku dostępności \n",
    "- Zarejestrowany użytkownik ma możliwość przeglądania historii swoich zakupów i ocenienia ich \n",
    "- Serwis posiada również rolę administratora strony/sprzedawcy, który ma możliwość dodawać produkty, ich opis oraz cenę."
   ]
  },
  {
   "cell_type": "markdown",
   "metadata": {},
   "source": [
    "Autorzy:\n",
    "\n",
    "- Kamila Soćko\n",
    "- Ewelina Trybułowska\n",
    "- Pualina Szymanek\n",
    "- Dorota Zub"
   ]
  },
  {
   "cell_type": "markdown",
   "metadata": {},
   "source": [
    "Start database:"
   ]
  },
  {
   "cell_type": "code",
   "execution_count": 1,
   "metadata": {},
   "outputs": [
    {
     "name": "stdout",
     "output_type": "stream",
     "text": [
      "docker: Error response from daemon: Conflict. The container name \"/mysql\" is already in use by container \"28052eac278be2039262fea8096a6e836ab8b19cad53d160cf5f00d7f0871684\". You have to remove (or rename) that container to be able to reuse that name.\r\n",
      "See 'docker run --help'.\r\n"
     ]
    }
   ],
   "source": [
    "! sudo docker run --name=mysql --net=host --rm --env MYSQL_ROOT_PASSWORD=root123 --env MYSQL_ROOT_HOST=% --env MYSQL_DATABASE=test --env MYSQL_USER=test --env MYSQL_PASSWORD=test123 -d mysql/mysql-server:8.0"
   ]
  },
  {
   "cell_type": "code",
   "execution_count": 2,
   "metadata": {},
   "outputs": [
    {
     "name": "stdout",
     "output_type": "stream",
     "text": [
      "Done.\r\n"
     ]
    }
   ],
   "source": [
    "! while ! timeout 1 bash -c \"echo > /dev/tcp/localhost/3306\" 2> /dev/null; do sleep 1; done; echo \"Done.\";"
   ]
  },
  {
   "cell_type": "markdown",
   "metadata": {},
   "source": [
    "Edit the code:"
   ]
  },
  {
   "cell_type": "code",
   "execution_count": 10,
   "metadata": {},
   "outputs": [
    {
     "name": "stdout",
     "output_type": "stream",
     "text": [
      "\n",
      "(java:94): dbind-\u001b[1;33mWARNING\u001b[0m **: \u001b[34m17:12:47.757\u001b[0m: Couldn't connect to accessibility bus: Failed to connect to socket /tmp/dbus-aEtuESyCLd: No such file or directory\n",
      "2022-01-15 17:12:52,653 [   5124]   WARN - l.NotificationGroupManagerImpl - Notification group CodeWithMe is already registered (group=com.intellij.notification.NotificationGroup@555cf22). Plugin descriptor: PluginDescriptor(name=Code With Me, id=com.jetbrains.codeWithMe, descriptorPath=plugin.xml, path=/opt/PhpStorm-212.5080.71/plugins/cwm-plugin, version=212.5080.71, package=null) \n",
      "[JetBrains Runtime] Detected slow X11, switched off alpha compositing of images. Control with -Dremote.x11.workaround={true|false|auto}.\n",
      "2022-01-15 17:13:02,020 [  14491]   WARN - pl.local.NativeFileWatcherImpl - table error: collision at 1466 (new /home/student/php_2021_sklep_internetowy_z_obuwiem/.env/home/cache/JetBrains/PhpStorm2021.2/javascript/typings/lodash/4.14.178, existing /home/student/.cache/JetBrains/PhpStorm2021.2/javascript/typings/lodash/4.14.178) \n",
      "2022-01-15 17:13:02,040 [  14511]   WARN - pl.local.NativeFileWatcherImpl - Watcher terminated with exit code 3 \n",
      "2022-01-15 17:13:02,131 [  14602]   WARN - pl.local.NativeFileWatcherImpl - table error: collision at 2 (new /home/student/php_2021_sklep_internetowy_z_obuwiem/.env/home/cache/JetBrains/PhpStorm2021.2/javascript/typings/lodash/4.14.178, existing /home/student/.cache/JetBrains/PhpStorm2021.2/javascript/typings/lodash/4.14.178) \n",
      "2022-01-15 17:13:02,155 [  14626]   WARN - pl.local.NativeFileWatcherImpl - Watcher terminated with exit code 3 \n",
      "2022-01-15 17:13:02,258 [  14729]   WARN - pl.local.NativeFileWatcherImpl - table error: collision at 2 (new /home/student/php_2021_sklep_internetowy_z_obuwiem/.env/home/cache/JetBrains/PhpStorm2021.2/javascript/typings/lodash/4.14.178, existing /home/student/.cache/JetBrains/PhpStorm2021.2/javascript/typings/lodash/4.14.178) \n",
      "2022-01-15 17:13:02,287 [  14758]   WARN - pl.local.NativeFileWatcherImpl - Watcher terminated with exit code 3 \n",
      "2022-01-15 17:13:02,345 [  14816]  ERROR - terminal.emulator.JediEmulator - Unhandled Control sequence\n",
      "parsed                        :ESC[?2004h\n",
      "bytes read                    :ESC[ \n",
      "2022-01-15 17:13:02,378 [  14849]   WARN - pl.local.NativeFileWatcherImpl - table error: collision at 2 (new /home/student/php_2021_sklep_internetowy_z_obuwiem/.env/home/cache/JetBrains/PhpStorm2021.2/javascript/typings/lodash/4.14.178, existing /home/student/.cache/JetBrains/PhpStorm2021.2/javascript/typings/lodash/4.14.178) \n",
      "2022-01-15 17:13:02,399 [  14870]   WARN - pl.local.NativeFileWatcherImpl - Watcher terminated with exit code 3 \n",
      "2022-01-15 17:13:02,493 [  14964]   WARN - pl.local.NativeFileWatcherImpl - table error: collision at 2 (new /home/student/php_2021_sklep_internetowy_z_obuwiem/.env/home/cache/JetBrains/PhpStorm2021.2/javascript/typings/lodash/4.14.178, existing /home/student/.cache/JetBrains/PhpStorm2021.2/javascript/typings/lodash/4.14.178) \n",
      "2022-01-15 17:13:02,552 [  15023]   WARN - pl.local.NativeFileWatcherImpl - Watcher terminated with exit code 3 \n",
      "2022-01-15 17:13:02,650 [  15121]   WARN - pl.local.NativeFileWatcherImpl - table error: collision at 2 (new /home/student/php_2021_sklep_internetowy_z_obuwiem/.env/home/cache/JetBrains/PhpStorm2021.2/javascript/typings/lodash/4.14.178, existing /home/student/.cache/JetBrains/PhpStorm2021.2/javascript/typings/lodash/4.14.178) \n",
      "2022-01-15 17:13:02,675 [  15146]   WARN - pl.local.NativeFileWatcherImpl - Watcher terminated with exit code 3 \n",
      "2022-01-15 17:13:02,801 [  15272]   WARN - pl.local.NativeFileWatcherImpl - table error: collision at 2 (new /home/student/php_2021_sklep_internetowy_z_obuwiem/.env/home/cache/JetBrains/PhpStorm2021.2/javascript/typings/lodash/4.14.178, existing /home/student/.cache/JetBrains/PhpStorm2021.2/javascript/typings/lodash/4.14.178) \n",
      "2022-01-15 17:13:02,802 [  15273]   WARN - pl.local.NativeFileWatcherImpl - Watcher terminated with exit code 3 \n",
      "2022-01-15 17:13:02,935 [  15406]   WARN - pl.local.NativeFileWatcherImpl - table error: collision at 2 (new /home/student/php_2021_sklep_internetowy_z_obuwiem/.env/home/cache/JetBrains/PhpStorm2021.2/javascript/typings/lodash/4.14.178, existing /home/student/.cache/JetBrains/PhpStorm2021.2/javascript/typings/lodash/4.14.178) \n",
      "2022-01-15 17:13:02,944 [  15415]   WARN - pl.local.NativeFileWatcherImpl - Watcher terminated with exit code 3 \n",
      "2022-01-15 17:13:03,024 [  15495]   WARN - pl.local.NativeFileWatcherImpl - table error: collision at 2 (new /home/student/php_2021_sklep_internetowy_z_obuwiem/.env/home/cache/JetBrains/PhpStorm2021.2/javascript/typings/lodash/4.14.178, existing /home/student/.cache/JetBrains/PhpStorm2021.2/javascript/typings/lodash/4.14.178) \n",
      "2022-01-15 17:13:03,046 [  15517]   WARN - pl.local.NativeFileWatcherImpl - Watcher terminated with exit code 3 \n",
      "2022-01-15 17:13:03,141 [  15612]   WARN - pl.local.NativeFileWatcherImpl - table error: collision at 2 (new /home/student/php_2021_sklep_internetowy_z_obuwiem/.env/home/cache/JetBrains/PhpStorm2021.2/javascript/typings/lodash/4.14.178, existing /home/student/.cache/JetBrains/PhpStorm2021.2/javascript/typings/lodash/4.14.178) \n",
      "2022-01-15 17:13:03,162 [  15633]   WARN - pl.local.NativeFileWatcherImpl - Watcher terminated with exit code 3 \n",
      "2022-01-15 17:13:03,162 [  15633]   WARN - api.vfs.impl.local.FileWatcher - File watcher failed repeatedly and has been disabled \n",
      "2022-01-15 17:13:03,817 [  16288]   WARN - ctionSystem.impl.ActionUpdater - 1549 ms to expand group child CWMTelephonyGroup \n",
      "2022-01-15 17:13:03,817 [  16288]   WARN - ctionSystem.impl.ActionUpdater - 1452 ms to expand group child NewDirectoryProject \n",
      "2022-01-15 17:13:03,818 [  16289]   WARN - ctionSystem.impl.ActionUpdater - 1459 ms to expand group child NewProjectOrModuleGroup \n",
      "2022-01-15 17:13:03,818 [  16289]   WARN - ctionSystem.impl.ActionUpdater - 1508 ms to expand group child PlatformOpenProjectGroup \n",
      "2022-01-15 17:13:03,818 [  16289]   WARN - ctionSystem.impl.ActionUpdater - 1532 ms to expand group child FileOpenGroup \n",
      "2022-01-15 17:13:03,820 [  16291]   WARN - ctionSystem.impl.ActionUpdater - 1558 ms to expand group child CodeWithMeNavbarGroup \n",
      "2022-01-15 17:13:04,106 [  16577]   WARN - com.intellij.util.xmlb.Binding - no accessors for com.jetbrains.php.testFramework.PhpTestFrameworkType \n",
      "2022-01-15 17:13:10,015 [  22486]   WARN - ctionSystem.impl.ActionUpdater - 1088 ms to expand group child EditorLangPopupMenu \n",
      "2022-01-15 17:19:04,822 [ 377293]  ERROR - terminal.emulator.JediEmulator - Unhandled Control sequence\n",
      "parsed                        :ESC[?2004l\n",
      "bytes read                    :ESC[ \n"
     ]
    }
   ],
   "source": [
    "! phpstorm ../project"
   ]
  },
  {
   "cell_type": "markdown",
   "metadata": {},
   "source": [
    "You can test your solution using included tests:"
   ]
  },
  {
   "cell_type": "code",
   "execution_count": 3,
   "metadata": {},
   "outputs": [
    {
     "name": "stdout",
     "output_type": "stream",
     "text": [
      "/home/student/php_2021_sklep_internetowy_z_obuwiem/Project_PHP/project\n"
     ]
    }
   ],
   "source": [
    "%cd project"
   ]
  },
  {
   "cell_type": "code",
   "execution_count": 4,
   "metadata": {},
   "outputs": [
    {
     "name": "stdout",
     "output_type": "stream",
     "text": [
      "\u001b[32mInstalling dependencies from lock file (including require-dev)\u001b[39m\n",
      "\u001b[32mVerifying lock file contents can be installed on current platform.\u001b[39m\n",
      "Nothing to install, update or remove\n",
      "\u001b[30;43mPackage swiftmailer/swiftmailer is abandoned, you should avoid using it. Use symfony/mailer instead.\u001b[39;49m\n",
      "\u001b[32mGenerating optimized autoload files\u001b[39m\n",
      "> Illuminate\\Foundation\\ComposerScripts::postAutoloadDump\n",
      "> @php artisan package:discover --ansi\n",
      "Discovered Package: \u001b[32mfacade/ignition\u001b[39m\n",
      "Discovered Package: \u001b[32mfruitcake/laravel-cors\u001b[39m\n",
      "Discovered Package: \u001b[32mlaravel/breeze\u001b[39m\n",
      "Discovered Package: \u001b[32mlaravel/sail\u001b[39m\n",
      "Discovered Package: \u001b[32mlaravel/sanctum\u001b[39m\n",
      "Discovered Package: \u001b[32mlaravel/tinker\u001b[39m\n",
      "Discovered Package: \u001b[32mnesbot/carbon\u001b[39m\n",
      "Discovered Package: \u001b[32mnunomaduro/collision\u001b[39m\n",
      "Discovered Package: \u001b[32mspatie/laravel-markdown\u001b[39m\n",
      "\u001b[32mPackage manifest generated successfully.\u001b[39m\n",
      "\u001b[32m85 packages you are using are looking for funding.\u001b[39m\n",
      "\u001b[32mUse the `composer fund` command to find out more!\u001b[39m\n"
     ]
    }
   ],
   "source": [
    "! composer install"
   ]
  },
  {
   "cell_type": "code",
   "execution_count": 5,
   "metadata": {},
   "outputs": [],
   "source": [
    "! cp .env.example .env"
   ]
  },
  {
   "cell_type": "code",
   "execution_count": 6,
   "metadata": {},
   "outputs": [
    {
     "name": "stdout",
     "output_type": "stream",
     "text": [
      "\u001b[32mApplication key set successfully.\u001b[39m\r\n"
     ]
    }
   ],
   "source": [
    "! php artisan key:generate"
   ]
  },
  {
   "cell_type": "code",
   "execution_count": 7,
   "metadata": {},
   "outputs": [
    {
     "name": "stdout",
     "output_type": "stream",
     "text": [
      "\u001b[32mDropped all tables successfully.\u001b[39m\n",
      "\u001b[32mMigration table created successfully.\u001b[39m\n",
      "\u001b[33mMigrating:\u001b[39m 2014_10_12_000000_create_users_table\n",
      "\u001b[32mMigrated:\u001b[39m  2014_10_12_000000_create_users_table (75.35ms)\n",
      "\u001b[33mMigrating:\u001b[39m 2014_10_12_100000_create_password_resets_table\n",
      "\u001b[32mMigrated:\u001b[39m  2014_10_12_100000_create_password_resets_table (49.91ms)\n",
      "\u001b[33mMigrating:\u001b[39m 2019_08_19_000000_create_failed_jobs_table\n",
      "\u001b[32mMigrated:\u001b[39m  2019_08_19_000000_create_failed_jobs_table (46.10ms)\n",
      "\u001b[33mMigrating:\u001b[39m 2019_12_14_000001_create_personal_access_tokens_table\n",
      "\u001b[32mMigrated:\u001b[39m  2019_12_14_000001_create_personal_access_tokens_table (129.52ms)\n",
      "\u001b[33mMigrating:\u001b[39m 2022_01_14_150047_create_products_table\n",
      "\u001b[32mMigrated:\u001b[39m  2022_01_14_150047_create_products_table (29.75ms)\n",
      "\u001b[33mMigrating:\u001b[39m 2022_01_14_152203_create_categories_table\n",
      "\u001b[32mMigrated:\u001b[39m  2022_01_14_152203_create_categories_table (164.23ms)\n",
      "\u001b[33mMigrating:\u001b[39m 2022_01_14_152355_create_subcategories_table\n",
      "\u001b[32mMigrated:\u001b[39m  2022_01_14_152355_create_subcategories_table (143.02ms)\n",
      "\u001b[33mMigrating:\u001b[39m 2022_01_14_152840_create_images_table\n",
      "\u001b[32mMigrated:\u001b[39m  2022_01_14_152840_create_images_table (25.49ms)\n"
     ]
    }
   ],
   "source": [
    "! php artisan migrate:fresh"
   ]
  },
  {
   "cell_type": "code",
   "execution_count": 8,
   "metadata": {},
   "outputs": [
    {
     "name": "stdout",
     "output_type": "stream",
     "text": [
      "\u001b[33mSeeding:\u001b[39m Database\\Seeders\\UserSeeder\n",
      "\n",
      "  \u001b[41;1m Illuminate\\Database\\QueryException \u001b[49;22m\n",
      "\n",
      "\u001b[39;1m  SQLSTATE[42S22]: Column not found: 1054 Unknown column 'name' in 'field list' (SQL: insert into `users` (`name`, `email`, `password`) values (John Doe, john.doe@gmail.com, $2y$10$QTqIfGrkuz6ME4Dzw/TtFe5hWTob4/fbLDTkQyKGbDuMU1kfkkpka))\u001b[39;22m\n",
      "\n",
      "  at \u001b[32mvendor/laravel/framework/src/Illuminate/Database/Connection.php\u001b[39m:\u001b[32m703\u001b[39m\n",
      "    \u001b[90m699\u001b[0m\u001b[90m▕ \u001b[0m\u001b[35;1m        \u001b[0m\u001b[90;3m// If an exception occurs when attempting to run a query, we'll format the error\u001b[0m\n",
      "    \u001b[90m700\u001b[0m\u001b[90m▕ \u001b[0m\u001b[90;3m        // message to include the bindings with SQL, which will make this exception a\u001b[0m\n",
      "    \u001b[90m701\u001b[0m\u001b[90m▕ \u001b[0m\u001b[90;3m        // lot more helpful to the developer instead of just the database's errors.\u001b[0m\n",
      "    \u001b[90m702\u001b[0m\u001b[90m▕ \u001b[0m\u001b[90;3m        \u001b[0m\u001b[35;1mcatch (\u001b[0m\u001b[39;1mException $e\u001b[0m\u001b[35;1m) {\u001b[0m\n",
      "\u001b[31;1m  ➜ \u001b[0m\u001b[3;1m703\u001b[0m\u001b[90m▕ \u001b[0m\u001b[35;1m            throw new \u001b[0m\u001b[39;1mQueryException\u001b[0m\u001b[35;1m(\u001b[0m\n",
      "    \u001b[90m704\u001b[0m\u001b[90m▕ \u001b[0m\u001b[35;1m                \u001b[0m\u001b[39;1m$query\u001b[0m\u001b[35;1m, \u001b[0m\u001b[39;1m$this\u001b[0m\u001b[35;1m->\u001b[0m\u001b[39;1mprepareBindings\u001b[0m\u001b[35;1m(\u001b[0m\u001b[39;1m$bindings\u001b[0m\u001b[35;1m), \u001b[0m\u001b[39;1m$e\u001b[0m\n",
      "    \u001b[90m705\u001b[0m\u001b[90m▕ \u001b[0m\u001b[39;1m            \u001b[0m\u001b[35;1m);\u001b[0m\n",
      "    \u001b[90m706\u001b[0m\u001b[90m▕ \u001b[0m\u001b[35;1m        }\u001b[0m\n",
      "    \u001b[90m707\u001b[0m\u001b[90m▕ \u001b[0m\u001b[35;1m    }\u001b[0m\n",
      "\n",
      "  \u001b[34;1m• \u001b[39;22m\u001b[39;1mA column was not found\u001b[39;22m: You might have forgotten to run your migrations. You can run your migrations using `php artisan migrate`. \n",
      "    \u001b[34mhttps://laravel.com/docs/master/migrations#running-migrations\u001b[39m\n",
      "\n",
      "      \u001b[2m+7 vendor frames \u001b[22m\n",
      "  \u001b[33m8   \u001b[39m\u001b[39;1mdatabase/seeders/UserSeeder.php\u001b[39;22m:\u001b[39;1m20\u001b[39;22m\n",
      "  \u001b[37m    Illuminate\\Database\\Query\\Builder::insert()\u001b[39m\n",
      "\n",
      "      \u001b[2m+7 vendor frames \u001b[22m\n",
      "  \u001b[33m16  \u001b[39m\u001b[39;1mdatabase/seeders/DatabaseSeeder.php\u001b[39;22m:\u001b[39;1m18\u001b[39;22m\n",
      "  \u001b[37m    Illuminate\\Database\\Seeder::call()\u001b[39m\n"
     ]
    }
   ],
   "source": [
    "! php artisan db:seed"
   ]
  },
  {
   "cell_type": "code",
   "execution_count": 9,
   "metadata": {},
   "outputs": [
    {
     "name": "stdout",
     "output_type": "stream",
     "text": [
      "mysqldump: [Warning] Using a password on the command line interface can be insecure.\r\n"
     ]
    }
   ],
   "source": [
    "! mysqldump -h127.0.0.1 -u root --password=root123 test > tests_codeception/_data/dump.sql"
   ]
  },
  {
   "cell_type": "code",
   "execution_count": 13,
   "metadata": {},
   "outputs": [],
   "source": [
    "import subprocess\n",
    "artisanServe = subprocess.Popen(['php', 'artisan', 'serve', '--port', '8888'])"
   ]
  },
  {
   "cell_type": "code",
   "execution_count": 14,
   "metadata": {},
   "outputs": [
    {
     "name": "stdout",
     "output_type": "stream",
     "text": [
      "Starting Laravel development server: http://127.0.0.1:8888\n",
      "[Fri Jan 14 15:18:22 2022] Failed to listen on 127.0.0.1:8888 (reason: Address already in use)\n",
      "Codeception PHP Testing Framework v4.1.22\n",
      "Powered by PHPUnit 9.5.10 by Sebastian Bergmann and contributors.\n",
      "\n",
      "\u001b[1mAcceptance Tests (1) \u001b[22m-----------------------------------------------------------\n",
      "\u001b[32;1m✔\u001b[39;22m \u001b[35;1m01_HomepageCept:\u001b[39;22m See homepage \u001b[32m(0.50s)\u001b[39m\n",
      "--------------------------------------------------------------------------------\n",
      "\n",
      "\n",
      "Time: 00:02.724, Memory: 14.00 MB\n",
      "\n",
      "\u001b[30;42mOK (1 test, 1 assertion)\u001b[0m\n"
     ]
    }
   ],
   "source": [
    "! vendor/bin/codecept run"
   ]
  },
  {
   "cell_type": "code",
   "execution_count": 33,
   "metadata": {},
   "outputs": [
    {
     "name": "stdout",
     "output_type": "stream",
     "text": [
      "php8.0: no process found\r\n"
     ]
    }
   ],
   "source": [
    "! killall php php8.0"
   ]
  },
  {
   "cell_type": "code",
   "execution_count": 15,
   "metadata": {},
   "outputs": [
    {
     "name": "stdout",
     "output_type": "stream",
     "text": [
      "/home/student/php_2021_sklep_internetowy_z_obuwiem/Project_PHP\n"
     ]
    }
   ],
   "source": [
    "%cd .."
   ]
  },
  {
   "cell_type": "markdown",
   "metadata": {},
   "source": [
    "Stop database:"
   ]
  },
  {
   "cell_type": "code",
   "execution_count": 32,
   "metadata": {},
   "outputs": [
    {
     "name": "stdout",
     "output_type": "stream",
     "text": [
      "mysql\r\n"
     ]
    }
   ],
   "source": [
    "! sudo docker container stop mysql"
   ]
  }
 ],
 "metadata": {
  "kernelspec": {
   "display_name": "Python 3 (ipykernel)",
   "language": "python",
   "name": "python3"
  },
  "language_info": {
   "codemirror_mode": {
    "name": "ipython",
    "version": 3
   },
   "file_extension": ".py",
   "mimetype": "text/x-python",
   "name": "python",
   "nbconvert_exporter": "python",
   "pygments_lexer": "ipython3",
   "version": "3.9.5"
  }
 },
 "nbformat": 4,
 "nbformat_minor": 4
}
