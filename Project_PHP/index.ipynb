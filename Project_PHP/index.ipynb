{
 "cells": [
  {
   "cell_type": "markdown",
   "metadata": {},
   "source": [
    "# PHP 2021/2022"
   ]
  },
  {
   "cell_type": "markdown",
   "metadata": {},
   "source": [
    "## Sklep internetowy z obuwiem"
   ]
  },
  {
   "cell_type": "markdown",
   "metadata": {},
   "source": [
    "Opis:\n",
    "- Kupujący mają możliwość zarejestrowania się do serwisu i późniejszego zalogowania \n",
    "- Zakupów można dokonać również bez rejestracji \n",
    "- Osoba zainteresowana kupnem określonego obuwia może określić preferowane cechy np. rozmiar, kolor, rodzaj obuwia itp \n",
    "- Kupujący ma możliwość wykorzystania kuponu rabatowego podczas zakupów \n",
    "- Jeśli brakuje danego obuwia po przefiltrowaniu wyświetlany jest stosowny komunikat o braku dostępności \n",
    "- Zarejestrowany użytkownik ma możliwość przeglądania historii swoich zakupów i ocenienia ich \n",
    "- Serwis posiada również rolę administratora strony/sprzedawcy, który ma możliwość dodawać produkty, ich opis oraz cenę."
   ]
  },
  {
   "cell_type": "markdown",
   "metadata": {},
   "source": [
    "Autorzy:\n",
    "\n",
    "- Kamila Soćko\n",
    "- Ewelina Trybułowska\n",
    "- Pualina Szymanek\n",
    "- Dorota Zub"
   ]
  },
  {
   "cell_type": "markdown",
   "metadata": {},
   "source": [
    "Start database:"
   ]
  },
  {
   "cell_type": "code",
   "execution_count": 34,
   "metadata": {},
   "outputs": [
    {
     "name": "stdout",
     "output_type": "stream",
     "text": [
      "432cc74d4c003b8c6ddff7dd63dfad76c67405419446fd0e8a13f5f72e14d3ec\r\n"
     ]
    }
   ],
   "source": [
    "! sudo docker run --name=mysql --net=host --rm --env MYSQL_ROOT_PASSWORD=root123 --env MYSQL_ROOT_HOST=% --env MYSQL_DATABASE=test --env MYSQL_USER=test --env MYSQL_PASSWORD=test123 -d mysql/mysql-server:8.0"
   ]
  },
  {
   "cell_type": "code",
   "execution_count": 35,
   "metadata": {},
   "outputs": [
    {
     "name": "stdout",
     "output_type": "stream",
     "text": [
      "Done.\r\n"
     ]
    }
   ],
   "source": [
    "! while ! timeout 1 bash -c \"echo > /dev/tcp/localhost/3306\" 2> /dev/null; do sleep 1; done; echo \"Done.\";"
   ]
  },
  {
   "cell_type": "markdown",
   "metadata": {},
   "source": [
    "Edit the code:"
   ]
  },
  {
   "cell_type": "code",
   "execution_count": 51,
   "metadata": {},
   "outputs": [
    {
     "name": "stdout",
     "output_type": "stream",
     "text": [
      "\n",
      "(java:5144): dbind-\u001b[1;33mWARNING\u001b[0m **: \u001b[34m00:27:57.688\u001b[0m: Couldn't connect to accessibility bus: Failed to connect to socket /tmp/dbus-N5GBwLzNtY: No such file or directory\n",
      "2022-01-15 00:28:04,968 [   7556]   WARN - l.NotificationGroupManagerImpl - Notification group CodeWithMe is already registered (group=com.intellij.notification.NotificationGroup@597597f9). Plugin descriptor: PluginDescriptor(name=Code With Me, id=com.jetbrains.codeWithMe, descriptorPath=plugin.xml, path=/opt/PhpStorm-212.5080.71/plugins/cwm-plugin, version=212.5080.71, package=null) \n",
      "2022-01-15 00:28:10,826 [  13414]   WARN - ctionSystem.impl.ActionUpdater - 1956 ms to expand group child SelectIn \n",
      "2022-01-15 00:28:11,518 [  14106]   WARN - ctionSystem.impl.ActionUpdater - 2679 ms to expand group child GoToCodeGroup \n",
      "2022-01-15 00:28:11,524 [  14112]   WARN - ctionSystem.impl.ActionUpdater - 2744 ms to expand group child OpenInBrowserGroup \n",
      "[JetBrains Runtime] Detected slow X11, switched off alpha compositing of images. Control with -Dremote.x11.workaround={true|false|auto}.\n",
      "2022-01-15 00:28:16,010 [  18598]   WARN - pl.local.NativeFileWatcherImpl - table error: collision at 1471 (new /home/student/php_2021_sklep_internetowy_z_obuwiem/.env/home/cache/JetBrains/PhpStorm2021.2/javascript/typings/lodash/4.14.178, existing /home/student/.cache/JetBrains/PhpStorm2021.2/javascript/typings/lodash/4.14.178) \n",
      "2022-01-15 00:28:16,050 [  18638]   WARN - pl.local.NativeFileWatcherImpl - Watcher terminated with exit code 3 \n",
      "2022-01-15 00:28:16,158 [  18746]   WARN - pl.local.NativeFileWatcherImpl - table error: collision at 2 (new /home/student/php_2021_sklep_internetowy_z_obuwiem/.env/home/cache/JetBrains/PhpStorm2021.2/javascript/typings/lodash/4.14.178, existing /home/student/.cache/JetBrains/PhpStorm2021.2/javascript/typings/lodash/4.14.178) \n",
      "2022-01-15 00:28:16,194 [  18782]   WARN - pl.local.NativeFileWatcherImpl - Watcher terminated with exit code 3 \n",
      "2022-01-15 00:28:16,331 [  18919]   WARN - pl.local.NativeFileWatcherImpl - table error: collision at 2 (new /home/student/php_2021_sklep_internetowy_z_obuwiem/.env/home/cache/JetBrains/PhpStorm2021.2/javascript/typings/lodash/4.14.178, existing /home/student/.cache/JetBrains/PhpStorm2021.2/javascript/typings/lodash/4.14.178) \n",
      "2022-01-15 00:28:16,382 [  18970]   WARN - pl.local.NativeFileWatcherImpl - Watcher terminated with exit code 3 \n",
      "2022-01-15 00:28:16,543 [  19131]   WARN - pl.local.NativeFileWatcherImpl - table error: collision at 2 (new /home/student/php_2021_sklep_internetowy_z_obuwiem/.env/home/cache/JetBrains/PhpStorm2021.2/javascript/typings/lodash/4.14.178, existing /home/student/.cache/JetBrains/PhpStorm2021.2/javascript/typings/lodash/4.14.178) \n",
      "2022-01-15 00:28:16,565 [  19153]   WARN - pl.local.NativeFileWatcherImpl - Watcher terminated with exit code 3 \n",
      "2022-01-15 00:28:16,762 [  19350]   WARN - pl.local.NativeFileWatcherImpl - table error: collision at 2 (new /home/student/php_2021_sklep_internetowy_z_obuwiem/.env/home/cache/JetBrains/PhpStorm2021.2/javascript/typings/lodash/4.14.178, existing /home/student/.cache/JetBrains/PhpStorm2021.2/javascript/typings/lodash/4.14.178) \n",
      "2022-01-15 00:28:16,782 [  19370]   WARN - pl.local.NativeFileWatcherImpl - Watcher terminated with exit code 3 \n",
      "2022-01-15 00:28:16,944 [  19532]   WARN - pl.local.NativeFileWatcherImpl - table error: collision at 2 (new /home/student/php_2021_sklep_internetowy_z_obuwiem/.env/home/cache/JetBrains/PhpStorm2021.2/javascript/typings/lodash/4.14.178, existing /home/student/.cache/JetBrains/PhpStorm2021.2/javascript/typings/lodash/4.14.178) \n",
      "2022-01-15 00:28:16,969 [  19557]   WARN - pl.local.NativeFileWatcherImpl - Watcher terminated with exit code 3 \n",
      "2022-01-15 00:28:17,117 [  19705]   WARN - pl.local.NativeFileWatcherImpl - table error: collision at 2 (new /home/student/php_2021_sklep_internetowy_z_obuwiem/.env/home/cache/JetBrains/PhpStorm2021.2/javascript/typings/lodash/4.14.178, existing /home/student/.cache/JetBrains/PhpStorm2021.2/javascript/typings/lodash/4.14.178) \n",
      "2022-01-15 00:28:17,133 [  19721]   WARN - pl.local.NativeFileWatcherImpl - Watcher terminated with exit code 3 \n",
      "2022-01-15 00:28:17,278 [  19866]   WARN - pl.local.NativeFileWatcherImpl - table error: collision at 2 (new /home/student/php_2021_sklep_internetowy_z_obuwiem/.env/home/cache/JetBrains/PhpStorm2021.2/javascript/typings/lodash/4.14.178, existing /home/student/.cache/JetBrains/PhpStorm2021.2/javascript/typings/lodash/4.14.178) \n",
      "2022-01-15 00:28:17,302 [  19890]   WARN - pl.local.NativeFileWatcherImpl - Watcher terminated with exit code 3 \n",
      "2022-01-15 00:28:17,451 [  20039]   WARN - pl.local.NativeFileWatcherImpl - table error: collision at 2 (new /home/student/php_2021_sklep_internetowy_z_obuwiem/.env/home/cache/JetBrains/PhpStorm2021.2/javascript/typings/lodash/4.14.178, existing /home/student/.cache/JetBrains/PhpStorm2021.2/javascript/typings/lodash/4.14.178) \n",
      "2022-01-15 00:28:17,486 [  20074]   WARN - pl.local.NativeFileWatcherImpl - Watcher terminated with exit code 3 \n",
      "2022-01-15 00:28:17,640 [  20228]   WARN - pl.local.NativeFileWatcherImpl - table error: collision at 2 (new /home/student/php_2021_sklep_internetowy_z_obuwiem/.env/home/cache/JetBrains/PhpStorm2021.2/javascript/typings/lodash/4.14.178, existing /home/student/.cache/JetBrains/PhpStorm2021.2/javascript/typings/lodash/4.14.178) \n",
      "2022-01-15 00:28:17,642 [  20230]  ERROR - terminal.emulator.JediEmulator - Unhandled Control sequence\n",
      "parsed                        :ESC[?2004h\n",
      "bytes read                    :ESC[ \n",
      "2022-01-15 00:28:17,713 [  20301]   WARN - pl.local.NativeFileWatcherImpl - Watcher terminated with exit code 3 \n",
      "2022-01-15 00:28:17,713 [  20301]   WARN - api.vfs.impl.local.FileWatcher - File watcher failed repeatedly and has been disabled \n",
      "2022-01-15 00:28:18,734 [  21322]   WARN - ctionSystem.impl.ActionUpdater - 1320 ms to expand group child CWMTelephonyGroup \n",
      "2022-01-15 00:28:18,809 [  21397]   WARN - com.intellij.util.xmlb.Binding - no accessors for com.jetbrains.php.testFramework.PhpTestFrameworkType \n",
      "2022-01-15 00:28:18,834 [  21422]   WARN - ctionSystem.impl.ActionUpdater - 1420 ms to expand group child CodeWithMeNavbarGroup \n",
      "2022-01-15 00:28:21,477 [  24065]  ERROR - terminal.emulator.JediEmulator - Unhandled Control sequence\n",
      "parsed                        :ESC[?2004l\n",
      "bytes read                    :ESC[ \n"
     ]
    }
   ],
   "source": [
    "! phpstorm "
   ]
  },
  {
   "cell_type": "markdown",
   "metadata": {},
   "source": [
    "You can test your solution using included tests:"
   ]
  },
  {
   "cell_type": "code",
   "execution_count": 30,
   "metadata": {},
   "outputs": [
    {
     "name": "stdout",
     "output_type": "stream",
     "text": [
      "[Errno 2] No such file or directory: 'project'\n",
      "/home/student/php_2021_sklep_internetowy_z_obuwiem/Project_PHP/project\n"
     ]
    }
   ],
   "source": [
    "%cd project"
   ]
  },
  {
   "cell_type": "code",
   "execution_count": 52,
   "metadata": {},
   "outputs": [
    {
     "name": "stdout",
     "output_type": "stream",
     "text": [
      "\u001b[32mInstalling dependencies from lock file (including require-dev)\u001b[39m\n",
      "\u001b[32mVerifying lock file contents can be installed on current platform.\u001b[39m\n",
      "Nothing to install, update or remove\n",
      "\u001b[30;43mPackage swiftmailer/swiftmailer is abandoned, you should avoid using it. Use symfony/mailer instead.\u001b[39;49m\n",
      "\u001b[32mGenerating optimized autoload files\u001b[39m\n",
      "> Illuminate\\Foundation\\ComposerScripts::postAutoloadDump\n",
      "> @php artisan package:discover --ansi\n",
      "Discovered Package: \u001b[32mfacade/ignition\u001b[39m\n",
      "Discovered Package: \u001b[32mfruitcake/laravel-cors\u001b[39m\n",
      "Discovered Package: \u001b[32mlaravel/breeze\u001b[39m\n",
      "Discovered Package: \u001b[32mlaravel/sail\u001b[39m\n",
      "Discovered Package: \u001b[32mlaravel/sanctum\u001b[39m\n",
      "Discovered Package: \u001b[32mlaravel/tinker\u001b[39m\n",
      "Discovered Package: \u001b[32mnesbot/carbon\u001b[39m\n",
      "Discovered Package: \u001b[32mnunomaduro/collision\u001b[39m\n",
      "Discovered Package: \u001b[32mspatie/laravel-markdown\u001b[39m\n",
      "\u001b[32mPackage manifest generated successfully.\u001b[39m\n",
      "\u001b[32m85 packages you are using are looking for funding.\u001b[39m\n",
      "\u001b[32mUse the `composer fund` command to find out more!\u001b[39m\n"
     ]
    }
   ],
   "source": [
    "! composer install"
   ]
  },
  {
   "cell_type": "code",
   "execution_count": 53,
   "metadata": {},
   "outputs": [],
   "source": [
    "! cp .env.example .env"
   ]
  },
  {
   "cell_type": "code",
   "execution_count": 54,
   "metadata": {},
   "outputs": [
    {
     "name": "stdout",
     "output_type": "stream",
     "text": [
      "\u001b[32mApplication key set successfully.\u001b[39m\r\n"
     ]
    }
   ],
   "source": [
    "! php artisan key:generate"
   ]
  },
  {
   "cell_type": "code",
   "execution_count": 55,
   "metadata": {},
   "outputs": [
    {
     "name": "stdout",
     "output_type": "stream",
     "text": [
      "\u001b[32mDropped all tables successfully.\u001b[39m\n",
      "\u001b[32mMigration table created successfully.\u001b[39m\n",
      "\u001b[33mMigrating:\u001b[39m 2014_10_12_000000_create_users_table\n",
      "\u001b[32mMigrated:\u001b[39m  2014_10_12_000000_create_users_table (45.35ms)\n",
      "\u001b[33mMigrating:\u001b[39m 2014_10_12_100000_create_password_resets_table\n",
      "\u001b[32mMigrated:\u001b[39m  2014_10_12_100000_create_password_resets_table (44.32ms)\n",
      "\u001b[33mMigrating:\u001b[39m 2019_08_19_000000_create_failed_jobs_table\n",
      "\u001b[32mMigrated:\u001b[39m  2019_08_19_000000_create_failed_jobs_table (44.85ms)\n",
      "\u001b[33mMigrating:\u001b[39m 2019_12_14_000001_create_personal_access_tokens_table\n",
      "\u001b[32mMigrated:\u001b[39m  2019_12_14_000001_create_personal_access_tokens_table (95.94ms)\n",
      "\u001b[33mMigrating:\u001b[39m 2022_01_14_150047_create_products_table\n",
      "\u001b[32mMigrated:\u001b[39m  2022_01_14_150047_create_products_table (43.91ms)\n",
      "\u001b[33mMigrating:\u001b[39m 2022_01_14_152203_create_categories_table\n",
      "\u001b[32mMigrated:\u001b[39m  2022_01_14_152203_create_categories_table (87.19ms)\n",
      "\u001b[33mMigrating:\u001b[39m 2022_01_14_152355_create_subcategories_table\n",
      "\u001b[32mMigrated:\u001b[39m  2022_01_14_152355_create_subcategories_table (71.10ms)\n",
      "\u001b[33mMigrating:\u001b[39m 2022_01_14_152840_create_images_table\n",
      "\u001b[32mMigrated:\u001b[39m  2022_01_14_152840_create_images_table (23.06ms)\n"
     ]
    }
   ],
   "source": [
    "! php artisan migrate:fresh"
   ]
  },
  {
   "cell_type": "code",
   "execution_count": 56,
   "metadata": {},
   "outputs": [
    {
     "name": "stdout",
     "output_type": "stream",
     "text": [
      "\u001b[33mSeeding:\u001b[39m Database\\Seeders\\UserSeeder\n",
      "\u001b[32mSeeded:\u001b[39m  Database\\Seeders\\UserSeeder (81.86ms)\n",
      "\u001b[33mSeeding:\u001b[39m Database\\Seeders\\ProductSeeder\n",
      "\u001b[32mSeeded:\u001b[39m  Database\\Seeders\\ProductSeeder (13.63ms)\n",
      "\u001b[32mDatabase seeding completed successfully.\u001b[39m\n"
     ]
    }
   ],
   "source": [
    "! php artisan db:seed"
   ]
  },
  {
   "cell_type": "code",
   "execution_count": 49,
   "metadata": {},
   "outputs": [
    {
     "name": "stdout",
     "output_type": "stream",
     "text": [
      "mysqldump: [Warning] Using a password on the command line interface can be insecure.\r\n"
     ]
    }
   ],
   "source": [
    "! mysqldump -h127.0.0.1 -u root --password=root123 test > tests_codeception/_data/dump.sql"
   ]
  },
  {
   "cell_type": "code",
   "execution_count": 13,
   "metadata": {},
   "outputs": [],
   "source": [
    "import subprocess\n",
    "artisanServe = subprocess.Popen(['php', 'artisan', 'serve', '--port', '8888'])"
   ]
  },
  {
   "cell_type": "code",
   "execution_count": 14,
   "metadata": {},
   "outputs": [
    {
     "name": "stdout",
     "output_type": "stream",
     "text": [
      "Starting Laravel development server: http://127.0.0.1:8888\n",
      "[Fri Jan 14 15:18:22 2022] Failed to listen on 127.0.0.1:8888 (reason: Address already in use)\n",
      "Codeception PHP Testing Framework v4.1.22\n",
      "Powered by PHPUnit 9.5.10 by Sebastian Bergmann and contributors.\n",
      "\n",
      "\u001b[1mAcceptance Tests (1) \u001b[22m-----------------------------------------------------------\n",
      "\u001b[32;1m✔\u001b[39;22m \u001b[35;1m01_HomepageCept:\u001b[39;22m See homepage \u001b[32m(0.50s)\u001b[39m\n",
      "--------------------------------------------------------------------------------\n",
      "\n",
      "\n",
      "Time: 00:02.724, Memory: 14.00 MB\n",
      "\n",
      "\u001b[30;42mOK (1 test, 1 assertion)\u001b[0m\n"
     ]
    }
   ],
   "source": [
    "! vendor/bin/codecept run"
   ]
  },
  {
   "cell_type": "code",
   "execution_count": 33,
   "metadata": {},
   "outputs": [
    {
     "name": "stdout",
     "output_type": "stream",
     "text": [
      "php8.0: no process found\r\n"
     ]
    }
   ],
   "source": [
    "! killall php php8.0"
   ]
  },
  {
   "cell_type": "code",
   "execution_count": 15,
   "metadata": {},
   "outputs": [
    {
     "name": "stdout",
     "output_type": "stream",
     "text": [
      "/home/student/php_2021_sklep_internetowy_z_obuwiem/Project_PHP\n"
     ]
    }
   ],
   "source": [
    "%cd .."
   ]
  },
  {
   "cell_type": "markdown",
   "metadata": {},
   "source": [
    "Stop database:"
   ]
  },
  {
   "cell_type": "code",
   "execution_count": 32,
   "metadata": {},
   "outputs": [
    {
     "name": "stdout",
     "output_type": "stream",
     "text": [
      "mysql\r\n"
     ]
    }
   ],
   "source": [
    "! sudo docker container stop mysql"
   ]
  }
 ],
 "metadata": {
  "kernelspec": {
   "display_name": "Python 3 (ipykernel)",
   "language": "python",
   "name": "python3"
  },
  "language_info": {
   "codemirror_mode": {
    "name": "ipython",
    "version": 3
   },
   "file_extension": ".py",
   "mimetype": "text/x-python",
   "name": "python",
   "nbconvert_exporter": "python",
   "pygments_lexer": "ipython3",
   "version": "3.9.5"
  }
 },
 "nbformat": 4,
 "nbformat_minor": 4
}
